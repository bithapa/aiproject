{
  "nbformat": 4,
  "nbformat_minor": 0,
  "metadata": {
    "kernelspec": {
      "display_name": "Python 3",
      "language": "python",
      "name": "python3"
    },
    "language_info": {
      "codemirror_mode": {
        "name": "ipython",
        "version": 3
      },
      "file_extension": ".py",
      "mimetype": "text/x-python",
      "name": "python",
      "nbconvert_exporter": "python",
      "pygments_lexer": "ipython3",
      "version": "3.7.3"
    },
    "colab": {
      "name": "Copy of nn.ipynb",
      "version": "0.3.2",
      "provenance": [],
      "include_colab_link": true
    }
  },
  "cells": [
    {
      "cell_type": "markdown",
      "metadata": {
        "id": "view-in-github",
        "colab_type": "text"
      },
      "source": [
        "<a href=\"https://colab.research.google.com/github/tito-coffee/aiproject/blob/master/neural_network.ipynb\" target=\"_parent\"><img src=\"https://colab.research.google.com/assets/colab-badge.svg\" alt=\"Open In Colab\"/></a>"
      ]
    },
    {
      "cell_type": "markdown",
      "metadata": {
        "id": "EN6PxMQF0H_j",
        "colab_type": "text"
      },
      "source": [
        "\n",
        "## Use the MNIST dataset to build the NN model that detects\n",
        "\n",
        " ## 1. handwritten digits and \n",
        " ## 2. Fashion images"
      ]
    },
    {
      "cell_type": "code",
      "metadata": {
        "id": "Q3ybmbqf0H_m",
        "colab_type": "code",
        "colab": {}
      },
      "source": [
        "# Import necessary packages\n",
        "\n",
        "%matplotlib inline\n",
        "%config InlineBackend.figure_format = 'retina'\n",
        "\n",
        "import numpy as np\n",
        "import torch\n",
        "\n",
        "import matplotlib.pyplot as plt\n",
        "\n",
        "import matplotlib.pyplot as plt\n",
        "import numpy as np\n",
        "from torch import nn, optim\n",
        "from torch.autograd import Variable\n",
        "\n",
        "# helper below is a class that will be used to view/display the data and the graph\n",
        "\n",
        "class helper():\n",
        "  def test_network(net, trainloader):\n",
        "\n",
        "      criterion = nn.MSELoss()\n",
        "      optimizer = optim.Adam(net.parameters(), lr=0.001)\n",
        "\n",
        "      dataiter = iter(trainloader)\n",
        "      images, labels = dataiter.next()\n",
        "\n",
        "      # Create Variables for the inputs and targets\n",
        "      inputs = Variable(images)\n",
        "      targets = Variable(images)\n",
        "\n",
        "      # Clear the gradients from all Variables\n",
        "      optimizer.zero_grad()\n",
        "\n",
        "      # Forward pass, then backward pass, then update weights\n",
        "      output = net.forward(inputs)\n",
        "      loss = criterion(output, targets)\n",
        "      loss.backward()\n",
        "      optimizer.step()\n",
        "\n",
        "      return True\n",
        "\n",
        "\n",
        "  def imshow(image, ax=None, title=None, normalize=True):\n",
        "      \"\"\"Imshow for Tensor.\"\"\"\n",
        "      if ax is None:\n",
        "          fig, ax = plt.subplots()\n",
        "      image = image.numpy().transpose((1, 2, 0))\n",
        "\n",
        "      if normalize:\n",
        "          mean = np.array([0.485, 0.456, 0.406])\n",
        "          std = np.array([0.229, 0.224, 0.225])\n",
        "          image = std * image + mean\n",
        "          image = np.clip(image, 0, 1)\n",
        "\n",
        "      ax.imshow(image)\n",
        "      ax.spines['top'].set_visible(False)\n",
        "      ax.spines['right'].set_visible(False)\n",
        "      ax.spines['left'].set_visible(False)\n",
        "      ax.spines['bottom'].set_visible(False)\n",
        "      ax.tick_params(axis='both', length=0)\n",
        "      ax.set_xticklabels('')\n",
        "      ax.set_yticklabels('')\n",
        "\n",
        "      return ax\n",
        "\n",
        "\n",
        "  def view_recon(img, recon):\n",
        "      ''' Function for displaying an image (as a PyTorch Tensor) and its\n",
        "          reconstruction also a PyTorch Tensor\n",
        "      '''\n",
        "\n",
        "      fig, axes = plt.subplots(ncols=2, sharex=True, sharey=True)\n",
        "      axes[0].imshow(img.numpy().squeeze())\n",
        "      axes[1].imshow(recon.data.numpy().squeeze())\n",
        "      for ax in axes:\n",
        "          ax.axis('off')\n",
        "          ax.set_adjustable('box-forced')\n",
        "\n",
        "  def view_classify(img, ps, version=\"MNIST\"):\n",
        "      ''' Function for viewing an image and it's predicted classes.\n",
        "      '''\n",
        "      ps = ps.data.numpy().squeeze()\n",
        "\n",
        "      fig, (ax1, ax2) = plt.subplots(figsize=(6,9), ncols=2)\n",
        "      ax1.imshow(img.resize_(1, 28, 28).numpy().squeeze())\n",
        "      ax1.axis('off')\n",
        "      ax2.barh(np.arange(10), ps)\n",
        "      ax2.set_aspect(0.1)\n",
        "      ax2.set_yticks(np.arange(10))\n",
        "      if version == \"MNIST\":\n",
        "          ax2.set_yticklabels(np.arange(10))\n",
        "      elif version == \"Fashion\":\n",
        "          ax2.set_yticklabels(['T-shirt/top',\n",
        "                              'Trouser',\n",
        "                              'Pullover',\n",
        "                              'Dress',\n",
        "                              'Coat',\n",
        "                              'Sandal',\n",
        "                              'Shirt',\n",
        "                              'Sneaker',\n",
        "                              'Bag',\n",
        "                              'Ankle Boot'], size='small');\n",
        "      ax2.set_title('Class Probability')\n",
        "      ax2.set_xlim(0, 1.1)\n",
        "\n",
        "      plt.tight_layout()\n"
      ],
      "execution_count": 0,
      "outputs": []
    },
    {
      "cell_type": "markdown",
      "metadata": {
        "id": "8Ko2A3hn0H_q",
        "colab_type": "text"
      },
      "source": [
        "## Download the MNIST dataset"
      ]
    },
    {
      "cell_type": "code",
      "metadata": {
        "id": "zsLM1KqD0H_r",
        "colab_type": "code",
        "colab": {}
      },
      "source": [
        "from torchvision import datasets, transforms\n",
        "\n",
        "# Define a transform to normalize the data with mean and sd 0.5, \n",
        "# this is important because it helps helps to reduce image pixels sizes (0 to 1)\n",
        "# before computation\n",
        "transform = transforms.Compose([transforms.ToTensor(),\n",
        "                              transforms.Normalize((0.5,), (0.5,)),\n",
        "                              ])\n",
        "# Download and load the training data\n",
        "trainset = datasets.MNIST('~/.pytorch/MNIST_data/', download=True, train=True, transform=transform)\n",
        "trainloader = torch.utils.data.DataLoader(trainset, batch_size=64, shuffle=True)\n",
        "\n",
        "## the trainloader is the the iterator over the entire data set which in each iteration\n",
        "## extracts 64 shuffled images"
      ],
      "execution_count": 0,
      "outputs": []
    },
    {
      "cell_type": "code",
      "metadata": {
        "id": "dzCK9shg0H_u",
        "colab_type": "code",
        "outputId": "3047a1fa-5ef7-4576-84be-0a75d300c9dc",
        "colab": {
          "base_uri": "https://localhost:8080/",
          "height": 68
        }
      },
      "source": [
        "## create an iterator over the trainloader \n",
        "# which in itself is an iterator\n",
        "\n",
        "dataiter = iter(trainloader)\n",
        "images, labels = dataiter.next()\n",
        "\n",
        "print(type(images))\n",
        "print(images.shape)\n",
        "print(labels.shape)"
      ],
      "execution_count": 0,
      "outputs": [
        {
          "output_type": "stream",
          "text": [
            "<class 'torch.Tensor'>\n",
            "torch.Size([64, 1, 28, 28])\n",
            "torch.Size([64])\n"
          ],
          "name": "stdout"
        }
      ]
    },
    {
      "cell_type": "code",
      "metadata": {
        "id": "YAA6fMRp0H_x",
        "colab_type": "code",
        "outputId": "2b60f066-d862-422e-dbca-3ee08269f5b5",
        "colab": {
          "base_uri": "https://localhost:8080/",
          "height": 267
        }
      },
      "source": [
        "# dislplay a sample image\n",
        "plt.imshow(images[63].numpy().squeeze());"
      ],
      "execution_count": 0,
      "outputs": [
        {
          "output_type": "display_data",
          "data": {
            "image/png": "[encoded data removed]",
            "text/plain": [
              "<Figure size 432x288 with 1 Axes>"
            ]
          },
          "metadata": {
            "tags": [],
            "image/png": {
              "width": 253,
              "height": 250
            }
          }
        }
      ]
    },
    {
      "cell_type": "code",
      "metadata": {
        "id": "4nW0rceW0H_0",
        "colab_type": "code",
        "outputId": "d79ee3cb-b804-48ad-9050-3b3df76c65b9",
        "colab": {
          "base_uri": "https://localhost:8080/",
          "height": 267
        }
      },
      "source": [
        "## display a sample image in grayscale\n",
        "# this is what is used in our neural network, \n",
        "# that is we take only single layer of image\n",
        "plt.imshow(images[63].numpy().squeeze(), cmap='Greys_r');"
      ],
      "execution_count": 0,
      "outputs": [
        {
          "output_type": "display_data",
          "data": {
            "image/png": "[encoded data removed]",
            "text/plain": [
              "<Figure size 432x288 with 1 Axes>"
            ]
          },
          "metadata": {
            "tags": [],
            "image/png": {
              "width": 253,
              "height": 250
            }
          }
        }
      ]
    },
    {
      "cell_type": "code",
      "metadata": {
        "id": "kdtHOCcF0H_2",
        "colab_type": "code",
        "outputId": "68bec168-0a05-425e-f5c8-2c3d165bb80c",
        "colab": {
          "base_uri": "https://localhost:8080/",
          "height": 102
        }
      },
      "source": [
        "# activation function\n",
        "\n",
        "def activation(x):\n",
        "    return 1/(1+torch.exp(-x))\n",
        "\n",
        "# flatten the tensors from [64, 1, 28, 28] to [64, 784]\n",
        "# images.shape[0] gives the batch size that is 64, \n",
        "# and the argument -1 flatens the tensor\n",
        "inputs = images.view(images.shape[0], -1) # features [64, 784]\n",
        "print(inputs.shape)\n",
        "\n",
        "# parameters\n",
        "w1 = torch.randn(784, 256) # first weight matrix [784, 256]\n",
        "print(w1.shape)\n",
        "b1 = torch.randn(256) # first set of 256 bias units\n",
        "w2 = torch.randn(256, 10) # second weight matrix [256, 10]\n",
        "print(w2.shape)\n",
        "b2 = torch.randn(10) # second set of 10 bias units\n",
        "\n",
        "h = activation(torch.mm(inputs, w1) + b1)\n",
        "print('h',h.shape)\n",
        "out = torch.mm(h, w2) +b2\n",
        "print('out',out.shape)\n",
        "\n",
        "# print(out)"
      ],
      "execution_count": 0,
      "outputs": [
        {
          "output_type": "stream",
          "text": [
            "torch.Size([64, 784])\n",
            "torch.Size([784, 256])\n",
            "torch.Size([256, 10])\n",
            "h torch.Size([64, 256])\n",
            "out torch.Size([64, 10])\n"
          ],
          "name": "stdout"
        }
      ]
    },
    {
      "cell_type": "code",
      "metadata": {
        "id": "s3gmB4ua0H_4",
        "colab_type": "code",
        "outputId": "7c58d85a-5634-42a4-e54a-15cf70246aaa",
        "colab": {
          "base_uri": "https://localhost:8080/",
          "height": 170
        }
      },
      "source": [
        "\n",
        "\"\"\"\n",
        "    define softmax: \n",
        "    input = x, a [64x10] tensor\n",
        "    dim=1 means we sum across the columns,\n",
        "    torch.sum(torch.exp(x), dim=1) is the sum of [64x1] vector that is of a single column,\n",
        "    however, we want the sum of all the elements across the row of tensor x, [64x10], since\n",
        "    each row represents a single image\n",
        "    so we use torch.sum(torch.exp(x), dim=1).view(-1,1)\n",
        "\"\"\"\n",
        "def softmax(x):\n",
        "    return torch.exp(x)/torch.sum(torch.exp(x), dim=1).view(-1,1)\n",
        "\n",
        "probabilities = softmax(out)\n",
        "\n",
        "# always verify the shape: it should be [64,10]\n",
        "print(probabilities.shape)\n",
        "\n",
        "# the probabilitis should sum to 1 like any proper probabilities\n",
        "print(probabilities.sum(dim=1))\n"
      ],
      "execution_count": 0,
      "outputs": [
        {
          "output_type": "stream",
          "text": [
            "torch.Size([64, 10])\n",
            "tensor([1.0000, 1.0000, 1.0000, 1.0000, 1.0000, 1.0000, 1.0000, 1.0000, 1.0000,\n",
            "        1.0000, 1.0000, 1.0000, 1.0000, 1.0000, 1.0000, 1.0000, 1.0000, 1.0000,\n",
            "        1.0000, 1.0000, 1.0000, 1.0000, 1.0000, 1.0000, 1.0000, 1.0000, 1.0000,\n",
            "        1.0000, 1.0000, 1.0000, 1.0000, 1.0000, 1.0000, 1.0000, 1.0000, 1.0000,\n",
            "        1.0000, 1.0000, 1.0000, 1.0000, 1.0000, 1.0000, 1.0000, 1.0000, 1.0000,\n",
            "        1.0000, 1.0000, 1.0000, 1.0000, 1.0000, 1.0000, 1.0000, 1.0000, 1.0000,\n",
            "        1.0000, 1.0000, 1.0000, 1.0000, 1.0000, 1.0000, 1.0000, 1.0000, 1.0000,\n",
            "        1.0000])\n"
          ],
          "name": "stdout"
        }
      ]
    },
    {
      "cell_type": "markdown",
      "metadata": {
        "id": "-oCxOf4M0H_6",
        "colab_type": "text"
      },
      "source": [
        "## Pytorch's nn module can be used to define the neural network architecture. Here we build the network with 784 input units, 256 hidden units, 10 output units and a softmax output"
      ]
    },
    {
      "cell_type": "code",
      "metadata": {
        "id": "-Q2NFnFm0H_8",
        "colab_type": "code",
        "colab": {}
      },
      "source": [
        "from torch import nn\n",
        "\n",
        "class Network(nn.Module):\n",
        "    def __init__(self):\n",
        "        super(Network, self).__init__()\n",
        "        \n",
        "        # inputs to hidden layer linear transformation\n",
        "        self.hidden = nn.Linear(784, 256)\n",
        "        \n",
        "        # output layer\n",
        "        self.output = nn.Linear(256, 10)\n",
        "        \n",
        "        # sigmoid activation and softmax\n",
        "        self.sigmoid = nn.Sigmoid()\n",
        "        self.softmax = nn.Softmax(dim=1)\n",
        "        \n",
        "    def forward(self, x):\n",
        "        #pass the input tensor through each of our operation\n",
        "        x = self.hidden(x)\n",
        "        x = self.sigmoid(x)\n",
        "        x = self.output(x)\n",
        "        x = self.softmax(x)\n",
        "        \n",
        "        return x"
      ],
      "execution_count": 0,
      "outputs": []
    },
    {
      "cell_type": "code",
      "metadata": {
        "id": "d6Btx0Sp0H__",
        "colab_type": "code",
        "outputId": "8adc28f8-5ce3-48df-8ef9-63eae0a0bc55",
        "colab": {
          "base_uri": "https://localhost:8080/",
          "height": 119
        }
      },
      "source": [
        "# output the model summary\n",
        "model = Network()\n",
        "model"
      ],
      "execution_count": 0,
      "outputs": [
        {
          "output_type": "execute_result",
          "data": {
            "text/plain": [
              "Network(\n",
              "  (hidden): Linear(in_features=784, out_features=256, bias=True)\n",
              "  (output): Linear(in_features=256, out_features=10, bias=True)\n",
              "  (sigmoid): Sigmoid()\n",
              "  (softmax): Softmax()\n",
              ")"
            ]
          },
          "metadata": {
            "tags": []
          },
          "execution_count": 153
        }
      ]
    },
    {
      "cell_type": "markdown",
      "metadata": {
        "id": "6Yw6kUYr0IAA",
        "colab_type": "text"
      },
      "source": [
        "## nn.functional can also be used instead of nn,"
      ]
    },
    {
      "cell_type": "code",
      "metadata": {
        "id": "DiR5064h0IAD",
        "colab_type": "code",
        "colab": {}
      },
      "source": [
        "import torch.nn.functional as F\n",
        "\n",
        "class Network(nn.Module):\n",
        "    def __init__(self):\n",
        "        super(Network, self).__init__()\n",
        "        self.hidden = nn.Linear(784, 256)\n",
        "        self.output = nn.Linear(256, 10)\n",
        "        \n",
        "    def forward(self, x):\n",
        "        x = F.sigmoid(self.hidden(x))\n",
        "        x = F.softmax(self.output(x), dim=1)\n",
        "        \n",
        "        return x"
      ],
      "execution_count": 0,
      "outputs": []
    },
    {
      "cell_type": "code",
      "metadata": {
        "id": "UzUoiz0S0IAE",
        "colab_type": "code",
        "outputId": "9a09a33c-7633-4d0b-a9b7-426cb3fb8457",
        "colab": {
          "base_uri": "https://localhost:8080/",
          "height": 85
        }
      },
      "source": [
        "# displays the model\n",
        "model = Network()\n",
        "model"
      ],
      "execution_count": 0,
      "outputs": [
        {
          "output_type": "execute_result",
          "data": {
            "text/plain": [
              "Network(\n",
              "  (hidden): Linear(in_features=784, out_features=256, bias=True)\n",
              "  (output): Linear(in_features=256, out_features=10, bias=True)\n",
              ")"
            ]
          },
          "metadata": {
            "tags": []
          },
          "execution_count": 155
        }
      ]
    },
    {
      "cell_type": "code",
      "metadata": {
        "id": "r7VwoAOZ0IAG",
        "colab_type": "code",
        "colab": {}
      },
      "source": [
        "\"\"\"create a network with \n",
        "    784 input units, \n",
        "    a hidden layer with 128 units and a ReLu activation, \n",
        "    a hidden layer with 64 units and a ReLu activation, \n",
        "    and an output layer with a softmax activation\n",
        "\"\"\"\n",
        "\n",
        "class Network(nn.Module):\n",
        "    def __init__(self):\n",
        "        super(Network, self).__init__()\n",
        "        self.layer1 = nn.Linear(784, 128)\n",
        "        self.layer2 = nn.Linear(128, 64)\n",
        "        self.layer3 = nn.Linear(64, 10)\n",
        "    def forward(self, x):\n",
        "        '''forward pass through the network\n",
        "            returns the output logits whose prob. sum to 1'''\n",
        "        x = self.layer1(x)\n",
        "        x = F.relu(x)\n",
        "        x = self.layer2(x)\n",
        "        x = F.relu(x)\n",
        "        x = self.layer3(x)\n",
        "        x = F.softmax(x, dim=1)\n",
        "        \n",
        "        return x"
      ],
      "execution_count": 0,
      "outputs": []
    },
    {
      "cell_type": "code",
      "metadata": {
        "id": "ZnTnJrir0IAH",
        "colab_type": "code",
        "outputId": "5fed3617-c11e-4b77-cd96-c77f8bb7a660",
        "colab": {
          "base_uri": "https://localhost:8080/",
          "height": 102
        }
      },
      "source": [
        "model = Network()\n",
        "model"
      ],
      "execution_count": 0,
      "outputs": [
        {
          "output_type": "execute_result",
          "data": {
            "text/plain": [
              "Network(\n",
              "  (layer1): Linear(in_features=784, out_features=128, bias=True)\n",
              "  (layer2): Linear(in_features=128, out_features=64, bias=True)\n",
              "  (layer3): Linear(in_features=64, out_features=10, bias=True)\n",
              ")"
            ]
          },
          "metadata": {
            "tags": []
          },
          "execution_count": 157
        }
      ]
    },
    {
      "cell_type": "code",
      "metadata": {
        "id": "JPJhm-x_0IAJ",
        "colab_type": "code",
        "outputId": "9f1c6437-6b15-4d79-e5a7-f704d68af8d8",
        "colab": {
          "base_uri": "https://localhost:8080/",
          "height": 476
        }
      },
      "source": [
        "'''Initializing weight and biases: \n",
        "    weights and biases are automatically initialized'''\n",
        "\n",
        "# use model.layer_name.weight to check the initialization\n",
        "print(model.layer1.weight)\n",
        "print(model.layer1.bias)"
      ],
      "execution_count": 0,
      "outputs": [
        {
          "output_type": "stream",
          "text": [
            "Parameter containing:\n",
            "tensor([[-0.0042,  0.0143,  0.0081,  ...,  0.0088, -0.0019,  0.0079],\n",
            "        [ 0.0149, -0.0029,  0.0214,  ..., -0.0275, -0.0323,  0.0186],\n",
            "        [-0.0027,  0.0037, -0.0354,  ...,  0.0269,  0.0196,  0.0062],\n",
            "        ...,\n",
            "        [-0.0102, -0.0245, -0.0294,  ...,  0.0006,  0.0040,  0.0135],\n",
            "        [-0.0275, -0.0256,  0.0210,  ...,  0.0007, -0.0001,  0.0292],\n",
            "        [ 0.0021,  0.0159, -0.0003,  ..., -0.0309,  0.0270,  0.0170]],\n",
            "       requires_grad=True)\n",
            "Parameter containing:\n",
            "tensor([-0.0280, -0.0179, -0.0042,  0.0221,  0.0236,  0.0328, -0.0049,  0.0119,\n",
            "         0.0168, -0.0270, -0.0032, -0.0147, -0.0143,  0.0242, -0.0049, -0.0089,\n",
            "        -0.0096,  0.0257, -0.0049,  0.0020,  0.0130,  0.0054, -0.0267,  0.0196,\n",
            "        -0.0229,  0.0279, -0.0277, -0.0050, -0.0219, -0.0235, -0.0027, -0.0034,\n",
            "         0.0154,  0.0266, -0.0212,  0.0158,  0.0274, -0.0326,  0.0222,  0.0267,\n",
            "         0.0066,  0.0157,  0.0193,  0.0329,  0.0119, -0.0344,  0.0260, -0.0099,\n",
            "         0.0267,  0.0060, -0.0357, -0.0316, -0.0120, -0.0207,  0.0123, -0.0056,\n",
            "         0.0210,  0.0289, -0.0292, -0.0274, -0.0044, -0.0304,  0.0137,  0.0344,\n",
            "        -0.0069,  0.0061,  0.0294,  0.0327,  0.0110, -0.0010,  0.0103,  0.0139,\n",
            "        -0.0023, -0.0261, -0.0149,  0.0323,  0.0061,  0.0282,  0.0334,  0.0130,\n",
            "        -0.0016, -0.0081,  0.0121,  0.0054, -0.0096, -0.0220, -0.0078, -0.0338,\n",
            "         0.0221, -0.0145, -0.0031, -0.0142,  0.0297,  0.0044,  0.0206, -0.0106,\n",
            "         0.0226,  0.0109,  0.0004,  0.0082, -0.0192, -0.0324,  0.0075, -0.0186,\n",
            "         0.0235,  0.0058,  0.0188,  0.0312,  0.0002, -0.0236, -0.0296, -0.0010,\n",
            "         0.0137,  0.0231,  0.0042,  0.0252,  0.0199,  0.0269, -0.0322, -0.0087,\n",
            "        -0.0103,  0.0201,  0.0002,  0.0143, -0.0262, -0.0020,  0.0308, -0.0277],\n",
            "       requires_grad=True)\n"
          ],
          "name": "stdout"
        }
      ]
    },
    {
      "cell_type": "code",
      "metadata": {
        "id": "9TNCcCr20IAN",
        "colab_type": "code",
        "outputId": "c5a29b3c-6ec9-415f-9c31-b276ae499b97",
        "colab": {
          "base_uri": "https://localhost:8080/",
          "height": 119
        }
      },
      "source": [
        "''' we can do the custom initialization of the weights\n",
        "    and biases as well;\n",
        "    these are autograd variables\n",
        "    to do this use model.layer_name.weight.data '''\n",
        "\n",
        "# set biases to all zeros\n",
        "model.layer1.bias.data.fill_(0)"
      ],
      "execution_count": 0,
      "outputs": [
        {
          "output_type": "execute_result",
          "data": {
            "text/plain": [
              "tensor([0., 0., 0., 0., 0., 0., 0., 0., 0., 0., 0., 0., 0., 0., 0., 0., 0., 0., 0., 0., 0., 0., 0., 0.,\n",
              "        0., 0., 0., 0., 0., 0., 0., 0., 0., 0., 0., 0., 0., 0., 0., 0., 0., 0., 0., 0., 0., 0., 0., 0.,\n",
              "        0., 0., 0., 0., 0., 0., 0., 0., 0., 0., 0., 0., 0., 0., 0., 0., 0., 0., 0., 0., 0., 0., 0., 0.,\n",
              "        0., 0., 0., 0., 0., 0., 0., 0., 0., 0., 0., 0., 0., 0., 0., 0., 0., 0., 0., 0., 0., 0., 0., 0.,\n",
              "        0., 0., 0., 0., 0., 0., 0., 0., 0., 0., 0., 0., 0., 0., 0., 0., 0., 0., 0., 0., 0., 0., 0., 0.,\n",
              "        0., 0., 0., 0., 0., 0., 0., 0.])"
            ]
          },
          "metadata": {
            "tags": []
          },
          "execution_count": 159
        }
      ]
    },
    {
      "cell_type": "code",
      "metadata": {
        "id": "gvMNbTCN0IAO",
        "colab_type": "code",
        "outputId": "877e9f6a-d403-4810-d388-62ac7bdfbb7c",
        "colab": {
          "base_uri": "https://localhost:8080/",
          "height": 238
        }
      },
      "source": [
        "''' set the standard deviation to 0.01\n",
        "    initialize the weights to the normal distribution\n",
        "    with standard deviation 0.01'''\n",
        "model.layer1.weight.data.normal_(std=0.01)"
      ],
      "execution_count": 0,
      "outputs": [
        {
          "output_type": "execute_result",
          "data": {
            "text/plain": [
              "tensor([[-6.7167e-03, -4.5340e-03, -1.0369e-02,  ...,  2.2028e-02,\n",
              "         -6.3604e-03,  1.5438e-02],\n",
              "        [ 3.9878e-04,  3.8150e-04,  1.3960e-02,  ..., -7.5650e-03,\n",
              "         -3.8271e-03, -1.0188e-04],\n",
              "        [ 1.4074e-03, -7.7914e-03,  9.5245e-03,  ..., -1.0440e-02,\n",
              "          1.4406e-02,  7.1108e-03],\n",
              "        ...,\n",
              "        [ 4.7831e-03, -3.4811e-03, -1.0685e-02,  ..., -8.4446e-03,\n",
              "         -1.1946e-03, -1.1655e-02],\n",
              "        [ 9.1135e-03, -2.3451e-03,  2.2659e-04,  ..., -1.6083e-03,\n",
              "         -9.6205e-03, -8.0816e-04],\n",
              "        [ 5.1672e-03, -6.9624e-03,  8.7545e-03,  ...,  4.1838e-05,\n",
              "          1.0358e-02,  5.9644e-03]])"
            ]
          },
          "metadata": {
            "tags": []
          },
          "execution_count": 160
        }
      ]
    },
    {
      "cell_type": "code",
      "metadata": {
        "id": "3oL4tv1U0IAQ",
        "colab_type": "code",
        "outputId": "1254e3dd-53c5-498f-a4ee-c878e76796bf",
        "colab": {
          "base_uri": "https://localhost:8080/",
          "height": 243
        }
      },
      "source": [
        "'''\n",
        "    now we can pass an image to our network and see what happens\n",
        "    \n",
        "    ## RUN THIS CELL MULTIPLE TIME TO SEE DIFFERENT RESULT!\n",
        "'''\n",
        "\n",
        "# grab some data\n",
        "dataitr = iter(trainloader)\n",
        "images, labels = dataiter.next()\n",
        "\n",
        "# resize images into a 1D vector\n",
        "# new shape is (batch size, color channels, image pixels)\n",
        "images.resize_(64, 1, 784)\n",
        "# or images.resize_(images.shape[0], 1, 784)\n",
        "\n",
        "# forward pass through the network\n",
        "img_index = 0\n",
        "forward_pass = model.forward(images[img_index,:])\n",
        "\n",
        "img = images[img_index]\n",
        "helper.view_classify(img.view(1, 28, 28), forward_pass)"
      ],
      "execution_count": 0,
      "outputs": [
        {
          "output_type": "display_data",
          "data": {
            "image/png": "[encoded data removed]",
            "text/plain": [
              "<Figure size 432x648 with 2 Axes>"
            ]
          },
          "metadata": {
            "tags": [],
            "image/png": {
              "width": 423,
              "height": 226
            }
          }
        }
      ]
    },
    {
      "cell_type": "markdown",
      "metadata": {
        "id": "F7ATO0dy0IAT",
        "colab_type": "text"
      },
      "source": [
        "## Use `nn.Sequential` [documentation](https://pytorch.org/docs/master/nn.html#torch.nn.Sequential)"
      ]
    },
    {
      "cell_type": "code",
      "metadata": {
        "id": "p_krJLrh0IAT",
        "colab_type": "code",
        "outputId": "c15ad75d-b051-4d78-afe4-16b84e078195",
        "colab": {
          "base_uri": "https://localhost:8080/",
          "height": 379
        }
      },
      "source": [
        "'''the probability distribution above shows that \n",
        "    the model doesn't know anything yet since the prediction seems same across all digits. \n",
        "    This is because the model hasnot been trained yet as all the weights are just random.\n",
        "\n",
        "    We use `nn.sequential` to train the model \n",
        "    by passing the weights throught he sequence of operation:\n",
        "'''\n",
        "# Hyper parameters for our model\n",
        "input_size = 784\n",
        "hidden_sizes = [128, 64]\n",
        "output_size = 10\n",
        "\n",
        "# build a feed forward network\n",
        "model = nn.Sequential(nn.Linear(input_size, hidden_sizes[0]),\n",
        "                      nn.ReLU(),\n",
        "                      nn.Linear(hidden_sizes[0], hidden_sizes[1]),\n",
        "                      nn.ReLU(),\n",
        "                      nn.Linear(hidden_sizes[1], output_size),\n",
        "                      nn.Softmax(dim=1))\n",
        "print(model)\n",
        "\n",
        "# forward pass through the network and display the output\n",
        "images, labels = next(iter(trainloader))\n",
        "images.resize_(images.shape[0], 1, 784)\n",
        "forward_pass = model.forward(images[0,:])\n",
        "helper.view_classify(images[0].view(1, 28, 28), forward_pass)\n",
        "\n",
        "\n",
        "## RUN THIS CELL MULTIPLE TIME TO SEE DIFFERENT RESULT!"
      ],
      "execution_count": 0,
      "outputs": [
        {
          "output_type": "stream",
          "text": [
            "Sequential(\n",
            "  (0): Linear(in_features=784, out_features=128, bias=True)\n",
            "  (1): ReLU()\n",
            "  (2): Linear(in_features=128, out_features=64, bias=True)\n",
            "  (3): ReLU()\n",
            "  (4): Linear(in_features=64, out_features=10, bias=True)\n",
            "  (5): Softmax()\n",
            ")\n"
          ],
          "name": "stdout"
        },
        {
          "output_type": "display_data",
          "data": {
            "image/png": "[encoded data removed]",
            "text/plain": [
              "<Figure size 432x648 with 2 Axes>"
            ]
          },
          "metadata": {
            "tags": [],
            "image/png": {
              "width": 423,
              "height": 226
            }
          }
        }
      ]
    },
    {
      "cell_type": "code",
      "metadata": {
        "id": "3vwtlWD_0IAW",
        "colab_type": "code",
        "outputId": "fee70445-0b32-4825-b796-6f1d2b79e6cd",
        "colab": {
          "base_uri": "https://localhost:8080/",
          "height": 187
        }
      },
      "source": [
        "# display the parameters of the each layer of the model\n",
        "print(model[0])\n",
        "model[0].weight"
      ],
      "execution_count": 0,
      "outputs": [
        {
          "output_type": "stream",
          "text": [
            "Linear(in_features=784, out_features=128, bias=True)\n"
          ],
          "name": "stdout"
        },
        {
          "output_type": "execute_result",
          "data": {
            "text/plain": [
              "Parameter containing:\n",
              "tensor([[-0.0244, -0.0286,  0.0130,  ..., -0.0025, -0.0309,  0.0025],\n",
              "        [ 0.0177,  0.0204,  0.0147,  ..., -0.0344, -0.0188,  0.0024],\n",
              "        [ 0.0179,  0.0170,  0.0294,  ...,  0.0136, -0.0331, -0.0312],\n",
              "        ...,\n",
              "        [-0.0166, -0.0343,  0.0070,  ...,  0.0294,  0.0300,  0.0056],\n",
              "        [ 0.0187, -0.0134, -0.0043,  ..., -0.0132,  0.0118,  0.0245],\n",
              "        [-0.0327, -0.0033,  0.0055,  ...,  0.0357,  0.0336, -0.0351]],\n",
              "       requires_grad=True)"
            ]
          },
          "metadata": {
            "tags": []
          },
          "execution_count": 163
        }
      ]
    },
    {
      "cell_type": "code",
      "metadata": {
        "id": "2wWBfF1Y0IAZ",
        "colab_type": "code",
        "colab": {}
      },
      "source": [
        "\n",
        "#  we can also use the dictionary keys to provide \n",
        "#  the unique name for each layer\n",
        "from collections import OrderedDict"
      ],
      "execution_count": 0,
      "outputs": []
    },
    {
      "cell_type": "code",
      "metadata": {
        "id": "q1h4VhXS0IAc",
        "colab_type": "code",
        "outputId": "01b15230-1175-41e4-8b6e-e9034e072696",
        "colab": {
          "base_uri": "https://localhost:8080/",
          "height": 153
        }
      },
      "source": [
        "\n",
        "model = nn.Sequential(OrderedDict([\n",
        "    ('layer1', nn.Linear(input_size, hidden_sizes[0])),\n",
        "    ('relu1', nn.ReLU()),\n",
        "    ('layer2', nn.Linear(hidden_sizes[0], hidden_sizes[1])),\n",
        "    ('relu2', nn.ReLU()),\n",
        "    ('output', nn.Linear(hidden_sizes[1], output_size)),\n",
        "    ('softmax', nn.Softmax(dim=1))]))\n",
        "model"
      ],
      "execution_count": 0,
      "outputs": [
        {
          "output_type": "execute_result",
          "data": {
            "text/plain": [
              "Sequential(\n",
              "  (layer1): Linear(in_features=784, out_features=128, bias=True)\n",
              "  (relu1): ReLU()\n",
              "  (layer2): Linear(in_features=128, out_features=64, bias=True)\n",
              "  (relu2): ReLU()\n",
              "  (output): Linear(in_features=64, out_features=10, bias=True)\n",
              "  (softmax): Softmax()\n",
              ")"
            ]
          },
          "metadata": {
            "tags": []
          },
          "execution_count": 165
        }
      ]
    },
    {
      "cell_type": "code",
      "metadata": {
        "id": "-pYTOSow0IAd",
        "colab_type": "code",
        "outputId": "37d20017-8750-4e78-d822-977df1423a47",
        "colab": {
          "base_uri": "https://localhost:8080/",
          "height": 34
        }
      },
      "source": [
        "# now we can use those unique kyes to check the parameter instead of using the index\n",
        "print(model[0])\n",
        "# print(model.layer1)"
      ],
      "execution_count": 0,
      "outputs": [
        {
          "output_type": "stream",
          "text": [
            "Linear(in_features=784, out_features=128, bias=True)\n"
          ],
          "name": "stdout"
        }
      ]
    },
    {
      "cell_type": "markdown",
      "metadata": {
        "id": "pGKvrpaO0IAf",
        "colab_type": "text"
      },
      "source": [
        "## Training Neural Network"
      ]
    },
    {
      "cell_type": "code",
      "metadata": {
        "id": "2t5kjTVN0IAf",
        "colab_type": "code",
        "colab": {}
      },
      "source": [
        "\"\"\" finding a function that maps our input to output\n",
        "    loss function: a measure of the performance of the neural network\n",
        "    Gradiant descent\n",
        "    Backpropagation\n",
        "    forward and backward pass\n",
        "    \"\"\"\n",
        "import torch\n",
        "from torch import nn\n",
        "import torch.nn.functional as F\n",
        "from torchvision import datasets, transforms\n",
        "\n",
        "# Define a transform to normalize the data\n",
        "transform = transforms.Compose([transforms.ToTensor(),\n",
        "                                transforms.Normalize((0.5,), (0.5,)),\n",
        "                              ])\n",
        "# Download and load the training data\n",
        "trainset = datasets.MNIST('~/.pytorch/MNIST_data/', download=True, train=True, transform=transform)\n",
        "trainloader = torch.utils.data.DataLoader(trainset, batch_size=64, shuffle=True)"
      ],
      "execution_count": 0,
      "outputs": []
    },
    {
      "cell_type": "code",
      "metadata": {
        "id": "kWvBfO8D0IAh",
        "colab_type": "code",
        "outputId": "6b2bea5c-e58a-4ce1-f1dc-bdf43578d1c2",
        "colab": {
          "base_uri": "https://localhost:8080/",
          "height": 51
        }
      },
      "source": [
        "# Build a feed-forward network\n",
        "model = nn.Sequential(nn.Linear(784, 128),\n",
        "                      nn.ReLU(),\n",
        "                      nn.Linear(128, 64),\n",
        "                      nn.ReLU(),\n",
        "                      nn.Linear(64, 10))\n",
        "\n",
        "# Define the loss\n",
        "\n",
        "\"\"\" with softmax, cross entropy loss is used:\n",
        "    to calculate the loss, we define the loss first adn then pass the output of our network and the correct labels\"\"\"\n",
        "criterion = nn.CrossEntropyLoss()\n",
        "\n",
        "# Get our data\n",
        "images, labels = next(iter(trainloader))\n",
        "print(images.size)\n",
        "# Flatten images\n",
        "images = images.view(images.shape[0], -1)\n",
        "\n",
        "# Forward pass, get our logits\n",
        "logits = model(images)\n",
        "# Calculate the loss with the logits and the labels\n",
        "loss = criterion(logits, labels)\n",
        "\n",
        "print(loss)"
      ],
      "execution_count": 0,
      "outputs": [
        {
          "output_type": "stream",
          "text": [
            "<built-in method size of Tensor object at 0x7f6c81991f30>\n",
            "tensor(2.2910, grad_fn=<NllLossBackward>)\n"
          ],
          "name": "stdout"
        }
      ]
    },
    {
      "cell_type": "code",
      "metadata": {
        "id": "ZYplvGcV0IAi",
        "colab_type": "code",
        "outputId": "35f583f2-598e-4e5c-c5c1-4570683e7b5a",
        "colab": {
          "base_uri": "https://localhost:8080/",
          "height": 68
        }
      },
      "source": [
        "\"\"\"\n",
        "    here we use the log softmax (allows us to get the probabilities \n",
        "    by taking the exponential torch.exp(output)),\n",
        "    with the log-softmax, we use the negative log likelihood loss,    \n",
        "\"\"\"\n",
        "\n",
        "model = nn.Sequential(nn.Linear(784, 128),\n",
        "                      nn.ReLU(),\n",
        "                      nn.Linear(128, 64),\n",
        "                      nn.ReLU(),\n",
        "                      nn.Linear(64, 10),\n",
        "                      nn.LogSoftmax())\n",
        "criterion = nn.NLLLoss()\n",
        "images,labels = next(iter(trainloader))\n",
        "images = images.view(images.shape[0], -1)\n",
        "logits = model(images)\n",
        "loss = criterion(logits, labels)\n",
        "\n",
        "print(loss)"
      ],
      "execution_count": 0,
      "outputs": [
        {
          "output_type": "stream",
          "text": [
            "tensor(2.3409, grad_fn=<NllLossBackward>)\n"
          ],
          "name": "stdout"
        },
        {
          "output_type": "stream",
          "text": [
            "/usr/local/lib/python3.6/dist-packages/torch/nn/modules/container.py:92: UserWarning: Implicit dimension choice for log_softmax has been deprecated. Change the call to include dim=X as an argument.\n",
            "  input = module(input)\n"
          ],
          "name": "stderr"
        }
      ]
    },
    {
      "cell_type": "code",
      "metadata": {
        "id": "xGhJcBjC0IAj",
        "colab_type": "code",
        "colab": {}
      },
      "source": [
        "from torch import optim"
      ],
      "execution_count": 0,
      "outputs": []
    },
    {
      "cell_type": "code",
      "metadata": {
        "id": "Kp2ddk9V0IAl",
        "colab_type": "code",
        "outputId": "590213aa-4b73-43f6-d320-80a5c8f7dcdd",
        "colab": {
          "base_uri": "https://localhost:8080/",
          "height": 221
        }
      },
      "source": [
        "\"\"\"\n",
        "    training the entire datasets with \n",
        "    gradient descent using grad module\n",
        "    and optimizing the model using optim package\n",
        "\"\"\"\n",
        "\n",
        "model = nn.Sequential(nn.Linear(784, 128),\n",
        "                     nn.ReLU(),\n",
        "                     nn.Linear(128, 64),\n",
        "                     nn.ReLU(),\n",
        "                     nn.Linear(64,10),\n",
        "                     nn.LogSoftmax())\n",
        "criterion = nn.NLLLoss()# negative log likelihood loss\n",
        "optimizer = optim.SGD(model.parameters(), lr=0.003)\n",
        "epochs = 5\n",
        "\n",
        "for e in range(epochs):\n",
        "    running_loss = 0\n",
        "    for images, labels in trainloader:\n",
        "        images = images.view(images.shape[0],-1)\n",
        "        optimizer.zero_grad()\n",
        "        \n",
        "        output = model.forward(images)\n",
        "        loss = criterion(output, labels)\n",
        "        loss.backward()\n",
        "        optimizer.step()\n",
        "        \n",
        "        running_loss += loss.item()\n",
        "    else:\n",
        "        print(e+1, \" Training loss: \")\n",
        "        print(running_loss/len(trainloader))"
      ],
      "execution_count": 0,
      "outputs": [
        {
          "output_type": "stream",
          "text": [
            "/usr/local/lib/python3.6/dist-packages/torch/nn/modules/container.py:92: UserWarning: Implicit dimension choice for log_softmax has been deprecated. Change the call to include dim=X as an argument.\n",
            "  input = module(input)\n"
          ],
          "name": "stderr"
        },
        {
          "output_type": "stream",
          "text": [
            "1  Training loss: \n",
            "1.899273228416565\n",
            "2  Training loss: \n",
            "0.867082416058095\n",
            "3  Training loss: \n",
            "0.5286935313360523\n",
            "4  Training loss: \n",
            "0.428642510430518\n",
            "5  Training loss: \n",
            "0.3831944659765341\n"
          ],
          "name": "stdout"
        }
      ]
    },
    {
      "cell_type": "code",
      "metadata": {
        "id": "pl57HL7r0IAn",
        "colab_type": "code",
        "outputId": "8fd476a9-28d6-4220-fd6b-be77c6ff2c81",
        "colab": {
          "base_uri": "https://localhost:8080/",
          "height": 277
        }
      },
      "source": [
        "# display the result\n",
        "## RUN THIS CELL MULTIPLE TIME TO SEE DIFFERENT RESULT!\n",
        "\n",
        "%matplotlib inline\n",
        "\n",
        "images, labels = next(iter(trainloader))\n",
        "\n",
        "img = images[0].view(1, 784)\n",
        "# Turn off gradients to speed up this part\n",
        "with torch.no_grad():\n",
        "    logps = model.forward(img)\n",
        "\n",
        "# Output of the network are logits, need to take softmax for probabilities\n",
        "ps = torch.exp(logps)\n",
        "helper.view_classify(img.view(1, 28, 28), ps)"
      ],
      "execution_count": 0,
      "outputs": [
        {
          "output_type": "stream",
          "text": [
            "/usr/local/lib/python3.6/dist-packages/torch/nn/modules/container.py:92: UserWarning: Implicit dimension choice for log_softmax has been deprecated. Change the call to include dim=X as an argument.\n",
            "  input = module(input)\n"
          ],
          "name": "stderr"
        },
        {
          "output_type": "display_data",
          "data": {
            "image/png": "[encoded data removed]",
            "text/plain": [
              "<Figure size 432x648 with 2 Axes>"
            ]
          },
          "metadata": {
            "tags": [],
            "image/png": {
              "width": 423,
              "height": 226
            }
          }
        }
      ]
    },
    {
      "cell_type": "markdown",
      "metadata": {
        "id": "-JcjpuMw0IAp",
        "colab_type": "text"
      },
      "source": [
        "## Fashion-MNIST prediction"
      ]
    },
    {
      "cell_type": "code",
      "metadata": {
        "id": "-S8nTBMk0IAp",
        "colab_type": "code",
        "colab": {}
      },
      "source": [
        "import torch\n",
        "from torch import nn, optim\n",
        "from torchvision import transforms, datasets\n",
        "\n",
        "import torch.nn.functional as f\n",
        "\n",
        "transform = transforms.Compose([transforms.ToTensor(),transforms.Normalize((0.5,),(0.5,))])\n",
        "trainset = datasets.FashionMNIST('~/.pytorch/Fashion_MNIST_data/', download=True, train=True, transform=transform)\n",
        "trainloader = torch.utils.data.DataLoader(trainset, batch_size=64, shuffle=True)\n",
        "testset = datasets.FashionMNIST('~/.pytorch/Fashion_MNIST_data/', download=True, train=True, transform=transform)\n",
        "testloader = torch.utils.data.DataLoader(testset, batch_size=64, shuffle=True)"
      ],
      "execution_count": 0,
      "outputs": []
    },
    {
      "cell_type": "code",
      "metadata": {
        "id": "6v_N9zu-0IAr",
        "colab_type": "code",
        "outputId": "9699e59f-fff8-4099-b4ca-e6df3cbc6903",
        "colab": {
          "base_uri": "https://localhost:8080/",
          "height": 267
        }
      },
      "source": [
        "images, labels = next(iter(trainloader))\n",
        "helper.imshow(images[0])\n"
      ],
      "execution_count": 0,
      "outputs": [
        {
          "output_type": "execute_result",
          "data": {
            "text/plain": [
              "<matplotlib.axes._subplots.AxesSubplot at 0x7f6c7f755710>"
            ]
          },
          "metadata": {
            "tags": []
          },
          "execution_count": 176
        },
        {
          "output_type": "display_data",
          "data": {
            "image/png": "[encoded data removed]",
            "text/plain": [
              "<Figure size 432x288 with 1 Axes>"
            ]
          },
          "metadata": {
            "tags": [],
            "image/png": {
              "width": 233,
              "height": 233
            }
          }
        }
      ]
    },
    {
      "cell_type": "code",
      "metadata": {
        "id": "aY_iM_4O0IAt",
        "colab_type": "code",
        "colab": {}
      },
      "source": [
        "# the network architecture\n",
        "class neural_network(nn.Module):\n",
        "    def __init__(self):\n",
        "        super(neural_network, self).__init__()\n",
        "        self.layer1 = nn.Linear(784, 264)\n",
        "        self.layer2 = nn.Linear(264, 128)\n",
        "        self.layer3 = nn.Linear(128, 64)\n",
        "        self.layer4 = nn.Linear(64, 10)\n",
        "        \n",
        "    def forward(self, data):\n",
        "        data = data.view(data.shape[0], -1)\n",
        "        data = f.relu(self.layer1(data))\n",
        "        data = f.relu(self.layer2(data))\n",
        "        data = f.relu(self.layer3(data))\n",
        "        data = f.log_softmax(self.layer4(data), dim=1)\n",
        "        \n",
        "        return data\n",
        "    \n",
        "# can also be defined using the sequential model\n",
        "# model = nn.Sequential(nn.Linear(784, 256),\n",
        "#                       nn.ReLU(),\n",
        "#                       nn.Linear(256, 128),\n",
        "#                       nn.ReLU(),\n",
        "#                       nn.Linear(128, 64),\n",
        "#                       nn.ReLU(),\n",
        "#                       nn.Linear(64, 10),\n",
        "#                       nn.LogSoftmax())"
      ],
      "execution_count": 0,
      "outputs": []
    },
    {
      "cell_type": "code",
      "metadata": {
        "id": "30oxzvDe0IAu",
        "colab_type": "code",
        "colab": {}
      },
      "source": [
        "model = neural_network()\n",
        "criterion = nn.NLLLoss()\n",
        "optimizer = optim.SGD(model.parameters(), lr=0.3)"
      ],
      "execution_count": 0,
      "outputs": []
    },
    {
      "cell_type": "code",
      "metadata": {
        "id": "jt75n0mw0IAv",
        "colab_type": "code",
        "outputId": "80c8800b-e84e-478b-95bc-60a67a2b1d27",
        "colab": {
          "base_uri": "https://localhost:8080/",
          "height": 187
        }
      },
      "source": [
        "# train the networl\n",
        "epochs = 5\n",
        "for i in range(epochs):\n",
        "    running_loss = 0\n",
        "    for images,labels in trainloader:\n",
        "        images = images.view(images.shape[0],-1) # flatten the input data\n",
        "        optimizer.zero_grad() # clear the gradients since they get accumulated\n",
        "        \n",
        "        # deploy the four stpes of training:\n",
        "        output = model.forward(images) # forward pass to get output\n",
        "        loss = criterion(output, labels) # loss calculation\n",
        "        loss.backward() # backward pass of loss\n",
        "        optimizer.step() # weights update\n",
        "        \n",
        "        running_loss += loss.item()\n",
        "    else:\n",
        "        print(\"training loss: \")\n",
        "        print(running_loss/len(trainloader))"
      ],
      "execution_count": 0,
      "outputs": [
        {
          "output_type": "stream",
          "text": [
            "training loss: \n",
            "0.6521673725802761\n",
            "training loss: \n",
            "0.41769061153377296\n",
            "training loss: \n",
            "0.368564244891916\n",
            "training loss: \n",
            "0.34034271527931637\n",
            "training loss: \n",
            "0.31682694345903295\n"
          ],
          "name": "stdout"
        }
      ]
    },
    {
      "cell_type": "code",
      "metadata": {
        "id": "OK01JcsR0IAx",
        "colab_type": "code",
        "outputId": "c1891785-adb3-4434-8745-ff107a1ac331",
        "colab": {
          "base_uri": "https://localhost:8080/",
          "height": 223
        }
      },
      "source": [
        "%matplotlib inline\n",
        "## RUN THIS CELL MULTIPLE TIME TO SEE DIFFERENT RESULT!\n",
        "\n",
        "images, labels = next(iter(testloader))\n",
        "image = images[0].view(1, 784)\n",
        "\n",
        "# turn off gradients to speed up this part\n",
        "with torch.no_grad():\n",
        "    logits = model.forward(image)\n",
        "    probabilities = f.softmax(logits, dim=1)\n",
        "helper.view_classify(image.view(1, 28, 28), probabilities, version='Fashion')"
      ],
      "execution_count": 0,
      "outputs": [
        {
          "output_type": "display_data",
          "data": {
            "image/png": "[encoded data removed]",
            "text/plain": [
              "<Figure size 432x648 with 2 Axes>"
            ]
          },
          "metadata": {
            "tags": [],
            "image/png": {
              "width": 423,
              "height": 206
            }
          }
        }
      ]
    },
    {
      "cell_type": "markdown",
      "metadata": {
        "id": "0K1C6dj30IA2",
        "colab_type": "text"
      },
      "source": [
        "## Validation\n",
        "\n",
        "Now the model is trained, we can make it even better by using validation. Validation is prediction of our model that is performed in test data (unseeen data by the model). If we graph the train loss and test loss we will see that test loss gets higher, this is because the model is failing to generalize the train data, which means model is not good enough to predict on the unseen data. This is also known as VOERFITTING, and to avoid this we will use sth called overfitting.\n"
      ]
    },
    {
      "cell_type": "code",
      "metadata": {
        "id": "pRzFryuE0IA3",
        "colab_type": "code",
        "outputId": "e8f74f2a-234c-4cf0-a127-02fdcf5a4c78",
        "colab": {
          "base_uri": "https://localhost:8080/",
          "height": 255
        }
      },
      "source": [
        "import torch\n",
        "from torchvision import datasets, transforms\n",
        "\n",
        "# Define a transform to normalize the data\n",
        "transform = transforms.Compose([transforms.ToTensor(),\n",
        "                                transforms.Normalize((0.5, ), (0.5, ))])\n",
        "# Download and load the training data\n",
        "trainset = datasets.FashionMNIST('~/.pytorch/F_MNIST_data/', download=True, train=True, transform=transform)\n",
        "trainloader = torch.utils.data.DataLoader(trainset, batch_size=64, shuffle=True)\n",
        "\n",
        "# Download and load the test data, `train=False`\n",
        "testset = datasets.FashionMNIST('~/.pytorch/F_MNIST_data/', download=True, train=False, transform=transform)\n",
        "testloader = torch.utils.data.DataLoader(testset, batch_size=64, shuffle=True)"
      ],
      "execution_count": 0,
      "outputs": [
        {
          "output_type": "stream",
          "text": [
            "\r0it [00:00, ?it/s]"
          ],
          "name": "stderr"
        },
        {
          "output_type": "stream",
          "text": [
            "Downloading http://fashion-mnist.s3-website.eu-central-1.amazonaws.com/train-images-idx3-ubyte.gz to /root/.pytorch/F_MNIST_data/FashionMNIST/raw/train-images-idx3-ubyte.gz\n"
          ],
          "name": "stdout"
        },
        {
          "output_type": "stream",
          "text": [
            "26427392it [00:02, 9640489.45it/s]                              \n"
          ],
          "name": "stderr"
        },
        {
          "output_type": "stream",
          "text": [
            "Extracting /root/.pytorch/F_MNIST_data/FashionMNIST/raw/train-images-idx3-ubyte.gz\n"
          ],
          "name": "stdout"
        },
        {
          "output_type": "stream",
          "text": [
            "\r0it [00:00, ?it/s]"
          ],
          "name": "stderr"
        },
        {
          "output_type": "stream",
          "text": [
            "Downloading http://fashion-mnist.s3-website.eu-central-1.amazonaws.com/train-labels-idx1-ubyte.gz to /root/.pytorch/F_MNIST_data/FashionMNIST/raw/train-labels-idx1-ubyte.gz\n"
          ],
          "name": "stdout"
        },
        {
          "output_type": "stream",
          "text": [
            "32768it [00:00, 70842.52it/s]                            \n",
            "0it [00:00, ?it/s]"
          ],
          "name": "stderr"
        },
        {
          "output_type": "stream",
          "text": [
            "Extracting /root/.pytorch/F_MNIST_data/FashionMNIST/raw/train-labels-idx1-ubyte.gz\n",
            "Downloading http://fashion-mnist.s3-website.eu-central-1.amazonaws.com/t10k-images-idx3-ubyte.gz to /root/.pytorch/F_MNIST_data/FashionMNIST/raw/t10k-images-idx3-ubyte.gz\n"
          ],
          "name": "stdout"
        },
        {
          "output_type": "stream",
          "text": [
            "4423680it [00:01, 2999962.12it/s]                            \n",
            "0it [00:00, ?it/s]"
          ],
          "name": "stderr"
        },
        {
          "output_type": "stream",
          "text": [
            "Extracting /root/.pytorch/F_MNIST_data/FashionMNIST/raw/t10k-images-idx3-ubyte.gz\n",
            "Downloading http://fashion-mnist.s3-website.eu-central-1.amazonaws.com/t10k-labels-idx1-ubyte.gz to /root/.pytorch/F_MNIST_data/FashionMNIST/raw/t10k-labels-idx1-ubyte.gz\n"
          ],
          "name": "stdout"
        },
        {
          "output_type": "stream",
          "text": [
            "8192it [00:00, 25554.65it/s]            "
          ],
          "name": "stderr"
        },
        {
          "output_type": "stream",
          "text": [
            "Extracting /root/.pytorch/F_MNIST_data/FashionMNIST/raw/t10k-labels-idx1-ubyte.gz\n",
            "Processing...\n",
            "Done!\n"
          ],
          "name": "stdout"
        },
        {
          "output_type": "stream",
          "text": [
            "\n"
          ],
          "name": "stderr"
        }
      ]
    },
    {
      "cell_type": "code",
      "metadata": {
        "id": "ojgXVCTa0IA4",
        "colab_type": "code",
        "colab": {}
      },
      "source": [
        "class neural_network(nn.Module):\n",
        "    def __init__(self):\n",
        "        super(neural_network, self).__init__()\n",
        "        self.layer1 = nn.Linear(784, 264)\n",
        "        self.layer2 = nn.Linear(264, 128)\n",
        "        self.layer3 = nn.Linear(128, 64)\n",
        "        self.layer4 = nn.Linear(64, 10)\n",
        "        \n",
        "    def forward(self, data):\n",
        "        data = data.view(data.shape[0], -1)\n",
        "        data = f.relu(self.layer1(data))\n",
        "        data = f.relu(self.layer2(data))\n",
        "        data = f.relu(self.layer3(data))\n",
        "        data = f.log_softmax(self.layer4(data), dim=1)\n",
        "        \n",
        "        return data"
      ],
      "execution_count": 0,
      "outputs": []
    },
    {
      "cell_type": "code",
      "metadata": {
        "id": "2cW-fPwR0IA6",
        "colab_type": "code",
        "outputId": "9ddf9b82-77a7-4a08-a6fc-26bd3807da2e",
        "colab": {
          "base_uri": "https://localhost:8080/",
          "height": 34
        }
      },
      "source": [
        "model = neural_network()\n",
        "\n",
        "images, labels = next(iter(trainloader))\n",
        "probabilities = torch.exp(model(images)) # get the class probabilites\n",
        "print(probabilities.shape) # we should get 10 class probabilities for 64 input images"
      ],
      "execution_count": 0,
      "outputs": [
        {
          "output_type": "stream",
          "text": [
            "torch.Size([64, 10])\n"
          ],
          "name": "stdout"
        }
      ]
    },
    {
      "cell_type": "code",
      "metadata": {
        "id": "D3mC8FoE0IA7",
        "colab_type": "code",
        "outputId": "e195d6ec-7a08-4f4c-f832-38e1197653e7",
        "colab": {
          "base_uri": "https://localhost:8080/",
          "height": 187
        }
      },
      "source": [
        "# get the touple of top k values and corresponding top k classes\n",
        "top_value, top_class = probabilities.topk(1, dim=1)\n",
        "\n",
        "# look at the most likely classes for first 10 examples\n",
        "print(top_class[:10,:])\n",
        "# print(top_value[:10,:])"
      ],
      "execution_count": 0,
      "outputs": [
        {
          "output_type": "stream",
          "text": [
            "tensor([[2],\n",
            "        [2],\n",
            "        [2],\n",
            "        [2],\n",
            "        [2],\n",
            "        [2],\n",
            "        [2],\n",
            "        [2],\n",
            "        [2],\n",
            "        [2]])\n"
          ],
          "name": "stdout"
        }
      ]
    },
    {
      "cell_type": "code",
      "metadata": {
        "id": "vzT9xgz80IA9",
        "colab_type": "code",
        "colab": {}
      },
      "source": [
        "# now we compare the predicted classes and equal classes\n",
        "# euqals will be like [1 0 1 1 0 0 0 1 1 1 1 . . .] of data type `torch.ByteTensor`\n",
        "# if the labels are correctly predected then the result is assigned as 1 and 0 otherwise\n",
        "equals = top_class == labels.view(top_class.shape)\n"
      ],
      "execution_count": 0,
      "outputs": []
    },
    {
      "cell_type": "code",
      "metadata": {
        "id": "i7zEqzjB0IBA",
        "colab_type": "code",
        "outputId": "e0fc6c55-8402-4f0a-bd82-6a4fbb2c4c33",
        "colab": {
          "base_uri": "https://localhost:8080/",
          "height": 51
        }
      },
      "source": [
        "\"\"\"\n",
        "    equals = [1 0 1 1 0 0 0 1 1 1 1 . . .]\n",
        "    calculating the accuracy is as simple as calculating the mean of the floating values of equals; \n",
        "    however, torch.mean does not support the data type of equals [torch.ByteTensor] therefore \n",
        "    we need to convert it to torch.FloatTensor\n",
        "\"\"\"\n",
        "\n",
        "accuracy = torch.mean(equals.type(torch.FloatTensor))\n",
        "print('Accuracy:')\n",
        "print(accuracy.item()*100)"
      ],
      "execution_count": 0,
      "outputs": [
        {
          "output_type": "stream",
          "text": [
            "Accuracy:\n",
            "12.5\n"
          ],
          "name": "stdout"
        }
      ]
    },
    {
      "cell_type": "code",
      "metadata": {
        "id": "fFljZJ8G0IBC",
        "colab_type": "code",
        "outputId": "05960e9d-ed0e-4ce9-9c14-2e978b793be8",
        "colab": {
          "base_uri": "https://localhost:8080/",
          "height": 527
        }
      },
      "source": [
        "# implementing validation\n",
        "model = neural_network()\n",
        "criterion = nn.NLLLoss()\n",
        "optimizer = optim.Adam(model.parameters(), lr=0.003)\n",
        "\n",
        "epochs = 30\n",
        "steps = 0\n",
        "\n",
        "train_losses, test_losses = [], []\n",
        "for e in range(epochs):\n",
        "    running_loss = 0\n",
        "    for images, labels in trainloader:\n",
        "        \n",
        "        optimizer.zero_grad()\n",
        "        \n",
        "        log_ps = model(images)\n",
        "        loss = criterion(log_ps, labels)\n",
        "        loss.backward()\n",
        "        optimizer.step()\n",
        "        \n",
        "        running_loss += loss.item()\n",
        "        \n",
        "    else:\n",
        "        ## Implement the validation pass and print out the validation accuracy\n",
        "        test_loss = 0\n",
        "        accuracy = 0\n",
        "        #turn off the gradients, since we do not update the parameters during validation\n",
        "        with torch.no_grad():\n",
        "            for images, labels in testloader:\n",
        "                # pass the validation data through the model\n",
        "                output = model(images)\n",
        "                test_loss += criterion(output, labels)\n",
        "                probabilities = torch.exp(output)\n",
        "                # get the touple of top values and top class predicted\n",
        "                top_value, top_class = probabilities.topk(1, dim=1)\n",
        "                # compare the predicted class with the actual labels, returns floating values\n",
        "                equals = top_class == labels.view(*top_class.shape)\n",
        "                # calculate the mean of equals, or accuracy\n",
        "                accuracy += torch.mean(equals.type(torch.FloatTensor))\n",
        "        train_losses.append(running_loss/len(trainloader))\n",
        "        test_losses.append(test_loss/len(testloader))\n",
        "        \n",
        "        print(\"Epoch: {}/{}.. \".format(e+1, epochs),\n",
        "              \"Training Loss: {:.3f}.. \".format(running_loss/len(trainloader)),\n",
        "              \"Test Loss: {:.3f}.. \".format(test_loss/len(testloader)),\n",
        "              \"Test Accuracy: {:.3f}\".format(accuracy/len(testloader)))"
      ],
      "execution_count": 0,
      "outputs": [
        {
          "output_type": "stream",
          "text": [
            "Epoch: 1/30..  Training Loss: 0.520..  Test Loss: 0.472..  Test Accuracy: 0.825\n",
            "Epoch: 2/30..  Training Loss: 0.394..  Test Loss: 0.437..  Test Accuracy: 0.842\n",
            "Epoch: 3/30..  Training Loss: 0.358..  Test Loss: 0.396..  Test Accuracy: 0.859\n",
            "Epoch: 4/30..  Training Loss: 0.335..  Test Loss: 0.373..  Test Accuracy: 0.867\n",
            "Epoch: 5/30..  Training Loss: 0.317..  Test Loss: 0.374..  Test Accuracy: 0.868\n",
            "Epoch: 6/30..  Training Loss: 0.305..  Test Loss: 0.373..  Test Accuracy: 0.872\n",
            "Epoch: 7/30..  Training Loss: 0.292..  Test Loss: 0.358..  Test Accuracy: 0.875\n",
            "Epoch: 8/30..  Training Loss: 0.282..  Test Loss: 0.368..  Test Accuracy: 0.871\n",
            "Epoch: 9/30..  Training Loss: 0.275..  Test Loss: 0.372..  Test Accuracy: 0.873\n",
            "Epoch: 10/30..  Training Loss: 0.269..  Test Loss: 0.347..  Test Accuracy: 0.882\n",
            "Epoch: 11/30..  Training Loss: 0.259..  Test Loss: 0.361..  Test Accuracy: 0.881\n",
            "Epoch: 12/30..  Training Loss: 0.256..  Test Loss: 0.345..  Test Accuracy: 0.882\n",
            "Epoch: 13/30..  Training Loss: 0.250..  Test Loss: 0.378..  Test Accuracy: 0.875\n",
            "Epoch: 14/30..  Training Loss: 0.243..  Test Loss: 0.373..  Test Accuracy: 0.880\n",
            "Epoch: 15/30..  Training Loss: 0.234..  Test Loss: 0.376..  Test Accuracy: 0.878\n",
            "Epoch: 16/30..  Training Loss: 0.234..  Test Loss: 0.382..  Test Accuracy: 0.878\n",
            "Epoch: 17/30..  Training Loss: 0.233..  Test Loss: 0.405..  Test Accuracy: 0.876\n",
            "Epoch: 18/30..  Training Loss: 0.229..  Test Loss: 0.360..  Test Accuracy: 0.885\n",
            "Epoch: 19/30..  Training Loss: 0.213..  Test Loss: 0.382..  Test Accuracy: 0.882\n",
            "Epoch: 20/30..  Training Loss: 0.219..  Test Loss: 0.376..  Test Accuracy: 0.882\n",
            "Epoch: 21/30..  Training Loss: 0.210..  Test Loss: 0.381..  Test Accuracy: 0.882\n",
            "Epoch: 22/30..  Training Loss: 0.212..  Test Loss: 0.412..  Test Accuracy: 0.879\n",
            "Epoch: 23/30..  Training Loss: 0.208..  Test Loss: 0.375..  Test Accuracy: 0.883\n",
            "Epoch: 24/30..  Training Loss: 0.211..  Test Loss: 0.408..  Test Accuracy: 0.883\n",
            "Epoch: 25/30..  Training Loss: 0.207..  Test Loss: 0.382..  Test Accuracy: 0.884\n",
            "Epoch: 26/30..  Training Loss: 0.195..  Test Loss: 0.364..  Test Accuracy: 0.888\n",
            "Epoch: 27/30..  Training Loss: 0.198..  Test Loss: 0.401..  Test Accuracy: 0.879\n",
            "Epoch: 28/30..  Training Loss: 0.192..  Test Loss: 0.389..  Test Accuracy: 0.888\n",
            "Epoch: 29/30..  Training Loss: 0.196..  Test Loss: 0.376..  Test Accuracy: 0.887\n",
            "Epoch: 30/30..  Training Loss: 0.187..  Test Loss: 0.410..  Test Accuracy: 0.885\n"
          ],
          "name": "stdout"
        }
      ]
    },
    {
      "cell_type": "code",
      "metadata": {
        "id": "Y275NfTz0IBE",
        "colab_type": "code",
        "colab": {}
      },
      "source": [
        "%matplotlib inline\n",
        "%config InlineBackend.figure_format = 'retina'\n",
        "\n",
        "import matplotlib.pyplot as plt"
      ],
      "execution_count": 0,
      "outputs": []
    },
    {
      "cell_type": "code",
      "metadata": {
        "id": "qFpMZgwI0IBG",
        "colab_type": "code",
        "outputId": "92fc9580-cdb4-426b-ad08-2188fb27fbcf",
        "colab": {
          "base_uri": "https://localhost:8080/",
          "height": 284
        }
      },
      "source": [
        "plt.plot(train_losses, label='Training Loss')\n",
        "plt.plot(test_losses, label='Validation Loss')\n",
        "plt.legend(frameon='False')"
      ],
      "execution_count": 0,
      "outputs": [
        {
          "output_type": "execute_result",
          "data": {
            "text/plain": [
              "<matplotlib.legend.Legend at 0x7f6c7f678940>"
            ]
          },
          "metadata": {
            "tags": []
          },
          "execution_count": 126
        },
        {
          "output_type": "display_data",
          "data": {
            "image/png": "[encoded data removed]",
            "text/plain": [
              "<Figure size 432x288 with 1 Axes>"
            ]
          },
          "metadata": {
            "tags": [],
            "image/png": {
              "width": 380,
              "height": 250
            }
          }
        }
      ]
    },
    {
      "cell_type": "markdown",
      "metadata": {
        "id": "20NZdcRT0IBK",
        "colab_type": "text"
      },
      "source": [
        "## Overfitting\n",
        "\n",
        "The huge difference between the training loss and the validation loss as shown is the above graph is what is knwn as overfitting.\n",
        "\n",
        "As the network is trained it learns better about the training data constantly updating the weights; however, when the network is applied to test/unseen data it fails to generalize what it has learned. This results in higher validation loss than training loss.\n",
        "\n",
        "A method called `dropout` is used, where input units are randomly dropped. This forces the network to share information between weights, increasing it's ability to generalize to new data. "
      ]
    },
    {
      "cell_type": "code",
      "metadata": {
        "id": "Rp-ppxuj0IBL",
        "colab_type": "code",
        "colab": {}
      },
      "source": [
        "class neural_network(nn.Module):\n",
        "    def __init__(self):\n",
        "        super(neural_network, self).__init__()\n",
        "        \n",
        "        self.layer1 = nn.Linear(784, 264)\n",
        "        self.layer2 = nn.Linear(264, 128)\n",
        "        self.layer3 = nn.Linear(128, 64)\n",
        "        self.layer4 = nn.Linear(64, 10)\n",
        "        \n",
        "        self.dropout = nn.Dropout(p=0.2) # drop out with the probability of 0.2\n",
        "    def forward(self, data):\n",
        "        data = data.view(data.shape[0], -1)\n",
        "        \n",
        "        data = self.dropout(f.relu(self.layer1(data)))\n",
        "        data = self.dropout(f.relu(self.layer2(data)))\n",
        "        data = self.dropout(f.relu(self.layer3(data)))\n",
        "        data = f.log_softmax(self.layer4(data), dim=1) # no dropout in the output since we want all classes :D\n",
        "        \n",
        "        return data"
      ],
      "execution_count": 0,
      "outputs": []
    },
    {
      "cell_type": "code",
      "metadata": {
        "id": "k6FMh_7b0IBM",
        "colab_type": "code",
        "outputId": "7f7cd6e9-c871-4ddd-e876-1c85976fe9cb",
        "colab": {
          "base_uri": "https://localhost:8080/",
          "height": 527
        }
      },
      "source": [
        "## Train your model with dropout, and monitor the training progress with the validation loss and accuracy\n",
        "model = neural_network()\n",
        "criterion = nn.NLLLoss()\n",
        "optimizer = optim.SGD(model.parameters(),lr=0.003)\n",
        "epochs = 30\n",
        "\n",
        "train_losses, test_losses = [], []\n",
        "for i in range(epochs):\n",
        "    running_loss = 0\n",
        "    for images, labels in trainloader:\n",
        "        images = images.view(images.shape[0], -1)\n",
        "        optimizer.zero_grad()\n",
        "\n",
        "        output = model.forward(images)\n",
        "        loss = criterion(output, labels)\n",
        "        loss.backward()\n",
        "        optimizer.step()\n",
        "\n",
        "        running_loss += loss.item()\n",
        "    else:\n",
        "        test_loss = 0\n",
        "        accuracy = 0\n",
        "        \n",
        "        with torch.no_grad(): # turns off gradients, saves memory and boosts speed\n",
        "            model.eval() # turns off the drop out\n",
        "            for images, labels in testloader:\n",
        "                output = model(images)\n",
        "                test_loss += criterion(output, labels)\n",
        "                probabilities = torch.exp(output)\n",
        "                \n",
        "                top_value, top_class = probabilities.topk(1, dim=1)\n",
        "                equals = top_class == labels.view(*top_class.shape)\n",
        "                accuracy += torch.mean(equals.type(torch.FloatTensor))\n",
        "        \n",
        "        model.train() # truns back the dropout on\n",
        "        \n",
        "        train_losses.append(running_loss/len(trainloader))\n",
        "        test_losses.append(test_loss/len(testloader))\n",
        "        \n",
        "        print(\"Epoch: {}/{}.. \".format(i+1, epochs),\n",
        "              \"Training Loss: {:.3f}.. \".format(running_loss/len(trainloader)),\n",
        "              \"Test Loss: {:.3f}.. \".format(test_loss/len(testloader)),\n",
        "              \"Test Accuracy: {:.3f}\".format(accuracy/len(testloader)))\n"
      ],
      "execution_count": 0,
      "outputs": [
        {
          "output_type": "stream",
          "text": [
            "Epoch: 1/30..  Training Loss: 2.159..  Test Loss: 1.765..  Test Accuracy: 0.362\n",
            "Epoch: 2/30..  Training Loss: 1.425..  Test Loss: 1.030..  Test Accuracy: 0.674\n",
            "Epoch: 3/30..  Training Loss: 1.016..  Test Loss: 0.805..  Test Accuracy: 0.718\n",
            "Epoch: 4/30..  Training Loss: 0.860..  Test Loss: 0.723..  Test Accuracy: 0.722\n",
            "Epoch: 5/30..  Training Loss: 0.781..  Test Loss: 0.671..  Test Accuracy: 0.745\n",
            "Epoch: 6/30..  Training Loss: 0.729..  Test Loss: 0.637..  Test Accuracy: 0.756\n",
            "Epoch: 7/30..  Training Loss: 0.691..  Test Loss: 0.610..  Test Accuracy: 0.767\n",
            "Epoch: 8/30..  Training Loss: 0.660..  Test Loss: 0.587..  Test Accuracy: 0.779\n",
            "Epoch: 9/30..  Training Loss: 0.630..  Test Loss: 0.568..  Test Accuracy: 0.792\n",
            "Epoch: 10/30..  Training Loss: 0.610..  Test Loss: 0.551..  Test Accuracy: 0.800\n",
            "Epoch: 11/30..  Training Loss: 0.591..  Test Loss: 0.538..  Test Accuracy: 0.804\n",
            "Epoch: 12/30..  Training Loss: 0.572..  Test Loss: 0.523..  Test Accuracy: 0.808\n",
            "Epoch: 13/30..  Training Loss: 0.555..  Test Loss: 0.513..  Test Accuracy: 0.812\n",
            "Epoch: 14/30..  Training Loss: 0.540..  Test Loss: 0.501..  Test Accuracy: 0.819\n",
            "Epoch: 15/30..  Training Loss: 0.530..  Test Loss: 0.496..  Test Accuracy: 0.818\n",
            "Epoch: 16/30..  Training Loss: 0.519..  Test Loss: 0.483..  Test Accuracy: 0.823\n",
            "Epoch: 17/30..  Training Loss: 0.509..  Test Loss: 0.480..  Test Accuracy: 0.824\n",
            "Epoch: 18/30..  Training Loss: 0.501..  Test Loss: 0.470..  Test Accuracy: 0.827\n",
            "Epoch: 19/30..  Training Loss: 0.491..  Test Loss: 0.464..  Test Accuracy: 0.830\n",
            "Epoch: 20/30..  Training Loss: 0.481..  Test Loss: 0.458..  Test Accuracy: 0.830\n",
            "Epoch: 21/30..  Training Loss: 0.474..  Test Loss: 0.451..  Test Accuracy: 0.834\n",
            "Epoch: 22/30..  Training Loss: 0.467..  Test Loss: 0.448..  Test Accuracy: 0.833\n",
            "Epoch: 23/30..  Training Loss: 0.461..  Test Loss: 0.448..  Test Accuracy: 0.837\n",
            "Epoch: 24/30..  Training Loss: 0.458..  Test Loss: 0.438..  Test Accuracy: 0.839\n",
            "Epoch: 25/30..  Training Loss: 0.451..  Test Loss: 0.434..  Test Accuracy: 0.842\n",
            "Epoch: 26/30..  Training Loss: 0.444..  Test Loss: 0.430..  Test Accuracy: 0.842\n",
            "Epoch: 27/30..  Training Loss: 0.439..  Test Loss: 0.427..  Test Accuracy: 0.842\n",
            "Epoch: 28/30..  Training Loss: 0.434..  Test Loss: 0.425..  Test Accuracy: 0.845\n",
            "Epoch: 29/30..  Training Loss: 0.428..  Test Loss: 0.417..  Test Accuracy: 0.847\n",
            "Epoch: 30/30..  Training Loss: 0.424..  Test Loss: 0.417..  Test Accuracy: 0.847\n"
          ],
          "name": "stdout"
        }
      ]
    },
    {
      "cell_type": "code",
      "metadata": {
        "id": "wYOrV2cJ0IBO",
        "colab_type": "code",
        "colab": {}
      },
      "source": [
        "%matplotlib inline\n",
        "%config InlineBackend.figure_format = 'retina'\n",
        "\n",
        "import matplotlib.pyplot as plt"
      ],
      "execution_count": 0,
      "outputs": []
    },
    {
      "cell_type": "code",
      "metadata": {
        "id": "UPgFavyX0IBP",
        "colab_type": "code",
        "outputId": "8541321d-41b4-4f82-879a-40e31f65bb7c",
        "colab": {
          "base_uri": "https://localhost:8080/",
          "height": 284
        }
      },
      "source": [
        "plt.plot(train_losses, label='Training loss')\n",
        "plt.plot(test_losses, label='Validation loss')\n",
        "plt.legend(frameon=False)"
      ],
      "execution_count": 0,
      "outputs": [
        {
          "output_type": "execute_result",
          "data": {
            "text/plain": [
              "<matplotlib.legend.Legend at 0x7f6c7e35e828>"
            ]
          },
          "metadata": {
            "tags": []
          },
          "execution_count": 131
        },
        {
          "output_type": "display_data",
          "data": {
            "image/png": "[encoded data removed]",
            "text/plain": [
              "<Figure size 432x288 with 1 Axes>"
            ]
          },
          "metadata": {
            "tags": [],
            "image/png": {
              "width": 380,
              "height": 250
            }
          }
        }
      ]
    },
    {
      "cell_type": "code",
      "metadata": {
        "id": "rQhHNovR0IBQ",
        "colab_type": "code",
        "outputId": "99a5d3cf-9bfc-4dd4-b593-b0f20030fe00",
        "colab": {
          "base_uri": "https://localhost:8080/",
          "height": 257
        }
      },
      "source": [
        "\"\"\"\n",
        "    As we can see in the graph above that we have better result now with validation\n",
        "    and training loss as almost same and as low as possible\n",
        "    \n",
        "    Predection:\n",
        "    \n",
        "    ## RUN THIS CELL multiple time to see different results!\n",
        "\"\"\"\n",
        "\n",
        "# Testing the network!\n",
        "\n",
        "model.eval()\n",
        "\n",
        "dataiter = iter(testloader)\n",
        "images, labels = dataiter.next()\n",
        "img = images[0]\n",
        "# Convert 2D image to 1D vector\n",
        "img = img.view(1, 784)\n",
        "\n",
        "# Calculate the class probabilities (softmax) for img\n",
        "with torch.no_grad():\n",
        "    output = model.forward(img)\n",
        "\n",
        "ps = torch.exp(output)\n",
        "\n",
        "# Plot the image and probabilities\n",
        "helper.view_classify(img.view(1, 28, 28), ps, version='Fashion')"
      ],
      "execution_count": 0,
      "outputs": [
        {
          "output_type": "stream",
          "text": [
            "/usr/local/lib/python3.6/dist-packages/torch/nn/modules/container.py:92: UserWarning: Implicit dimension choice for log_softmax has been deprecated. Change the call to include dim=X as an argument.\n",
            "  input = module(input)\n"
          ],
          "name": "stderr"
        },
        {
          "output_type": "display_data",
          "data": {
            "image/png": "[encoded data removed]",
            "text/plain": [
              "<Figure size 432x648 with 2 Axes>"
            ]
          },
          "metadata": {
            "tags": [],
            "image/png": {
              "width": 423,
              "height": 206
            }
          }
        }
      ]
    },
    {
      "cell_type": "markdown",
      "metadata": {
        "id": "v1bbKf39O8G-",
        "colab_type": "text"
      },
      "source": [
        "# THE END :)"
      ]
    }
  ]
}