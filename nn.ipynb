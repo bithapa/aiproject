{
 "cells": [
  {
   "cell_type": "markdown",
   "metadata": {},
   "source": [
    "\n",
    "> ### Use the MNIST dataset to build the NN model that detects the handwritten digits"
   ]
  },
  {
   "cell_type": "code",
   "execution_count": 7,
   "metadata": {},
   "outputs": [],
   "source": [
    "# Import necessary packages\n",
    "\n",
    "'''the helper is a custom built helper \n",
    "to display the images and graphs'''\n",
    "\n",
    "%matplotlib inline\n",
    "%config InlineBackend.figure_format = 'retina'\n",
    "\n",
    "import numpy as np\n",
    "import torch\n",
    "\n",
    "import helper\n",
    "\n",
    "import matplotlib.pyplot as plt"
   ]
  },
  {
   "cell_type": "markdown",
   "metadata": {},
   "source": [
    "### download the MNIST dataset"
   ]
  },
  {
   "cell_type": "code",
   "execution_count": 8,
   "metadata": {},
   "outputs": [],
   "source": [
    "### Run this cell\n",
    "\n",
    "from torchvision import datasets, transforms\n",
    "\n",
    "# Define a transform to normalize the data with mean and sd 0.5\n",
    "transform = transforms.Compose([transforms.ToTensor(),\n",
    "                              transforms.Normalize((0.5,), (0.5,)),\n",
    "                              ])\n",
    "# Download and load the training data\n",
    "trainset = datasets.MNIST('~/.pytorch/MNIST_data/', download=True, train=True, transform=transform)\n",
    "trainloader = torch.utils.data.DataLoader(trainset, batch_size=64, shuffle=True)\n",
    "\n",
    "## the trainloader is the the iterator over the entire data set which in each iteration\n",
    "## extracts 64 shuffled images"
   ]
  },
  {
   "cell_type": "code",
   "execution_count": 9,
   "metadata": {},
   "outputs": [
    {
     "name": "stdout",
     "output_type": "stream",
     "text": [
      "<class 'torch.Tensor'>\n",
      "torch.Size([64, 1, 28, 28])\n",
      "torch.Size([64])\n"
     ]
    }
   ],
   "source": [
    "## create an iterator over the trainloader \n",
    "# which in itself is an iterator\n",
    "\n",
    "dataiter = iter(trainloader)\n",
    "images, labels = dataiter.next()\n",
    "\n",
    "print(type(images))\n",
    "print(images.shape)\n",
    "print(labels.shape)"
   ]
  },
  {
   "cell_type": "code",
   "execution_count": 10,
   "metadata": {},
   "outputs": [
    {
     "data": {
      "image/png": "[encoded data removed]",
      "text/plain": [
       "<Figure size 432x288 with 1 Axes>"
      ]
     },
     "metadata": {
      "image/png": {
       "height": 250,
       "width": 253
      },
      "needs_background": "light"
     },
     "output_type": "display_data"
    }
   ],
   "source": [
    "# dislplay a sample image\n",
    "plt.imshow(images[63].numpy().squeeze());"
   ]
  },
  {
   "cell_type": "code",
   "execution_count": 11,
   "metadata": {},
   "outputs": [
    {
     "data": {
      "image/png": "[encoded data removed]",
      "text/plain": [
       "<Figure size 432x288 with 1 Axes>"
      ]
     },
     "metadata": {
      "image/png": {
       "height": 250,
       "width": 253
      },
      "needs_background": "light"
     },
     "output_type": "display_data"
    }
   ],
   "source": [
    "## display a sample image in grayscale\n",
    "# this is what is used in our neural network, \n",
    "# that is we take only single layer of image\n",
    "plt.imshow(images[63].numpy().squeeze(), cmap='Greys_r');"
   ]
  },
  {
   "cell_type": "code",
   "execution_count": 12,
   "metadata": {},
   "outputs": [
    {
     "name": "stdout",
     "output_type": "stream",
     "text": [
      "torch.Size([64, 784])\n",
      "torch.Size([784, 256])\n",
      "torch.Size([256, 10])\n",
      "h torch.Size([64, 256])\n",
      "out torch.Size([64, 10])\n"
     ]
    }
   ],
   "source": [
    "# activation function\n",
    "\n",
    "def activation(x):\n",
    "    return 1/(1+torch.exp(-x))\n",
    "\n",
    "# flatten the tensors from [64, 1, 28, 28] to [64, 784]\n",
    "# images.shape[0] gives the batch size that is 64, \n",
    "# and the argument -1 flatens the tensor\n",
    "inputs = images.view(images.shape[0], -1) # features [64, 784]\n",
    "print(inputs.shape)\n",
    "\n",
    "# parameters\n",
    "w1 = torch.randn(784, 256) # first weight matrix [784, 256]\n",
    "print(w1.shape)\n",
    "b1 = torch.randn(256) # first set of 256 bias units\n",
    "w2 = torch.randn(256, 10) # second weight matrix [256, 10]\n",
    "print(w2.shape)\n",
    "b2 = torch.randn(10) # second set of 10 bias units\n",
    "\n",
    "h = activation(torch.mm(inputs, w1) + b1)\n",
    "print('h',h.shape)\n",
    "out = torch.mm(h, w2) +b2\n",
    "print('out',out.shape)\n",
    "\n",
    "# print(out)"
   ]
  },
  {
   "cell_type": "code",
   "execution_count": 13,
   "metadata": {},
   "outputs": [
    {
     "name": "stdout",
     "output_type": "stream",
     "text": [
      "torch.Size([64, 10])\n",
      "tensor([1.0000, 1.0000, 1.0000, 1.0000, 1.0000, 1.0000, 1.0000, 1.0000, 1.0000,\n",
      "        1.0000, 1.0000, 1.0000, 1.0000, 1.0000, 1.0000, 1.0000, 1.0000, 1.0000,\n",
      "        1.0000, 1.0000, 1.0000, 1.0000, 1.0000, 1.0000, 1.0000, 1.0000, 1.0000,\n",
      "        1.0000, 1.0000, 1.0000, 1.0000, 1.0000, 1.0000, 1.0000, 1.0000, 1.0000,\n",
      "        1.0000, 1.0000, 1.0000, 1.0000, 1.0000, 1.0000, 1.0000, 1.0000, 1.0000,\n",
      "        1.0000, 1.0000, 1.0000, 1.0000, 1.0000, 1.0000, 1.0000, 1.0000, 1.0000,\n",
      "        1.0000, 1.0000, 1.0000, 1.0000, 1.0000, 1.0000, 1.0000, 1.0000, 1.0000,\n",
      "        1.0000])\n"
     ]
    }
   ],
   "source": [
    "\n",
    "\"\"\"\n",
    "    define softmax: \n",
    "    input = x, a [64x10] tensor\n",
    "    dim=1 means we sum across the columns,\n",
    "    torch.sum(torch.exp(x), dim=1) is the sum of [64x1] vector that is of a single column,\n",
    "    however, we want the sum of all the elements across the row of tensor x, [64x10], since\n",
    "    each row represents a single image\n",
    "    so we use torch.sum(torch.exp(x), dim=1).view(-1,1)\n",
    "\"\"\"\n",
    "def softmax(x):\n",
    "    return torch.exp(x)/torch.sum(torch.exp(x), dim=1).view(-1,1)\n",
    "\n",
    "probabilities = softmax(out)\n",
    "\n",
    "# always verify the shape: it should be [64,10]\n",
    "print(probabilities.shape)\n",
    "\n",
    "# the probabilitis should sum to 1 like any proper probabilities\n",
    "print(probabilities.sum(dim=1))\n"
   ]
  },
  {
   "cell_type": "markdown",
   "metadata": {},
   "source": [
    "### pytorch's nn module can be used to define the neural network architecture. Here we build the network with 784 input units, 256 hidden units, 10 output units and a softmax output"
   ]
  },
  {
   "cell_type": "code",
   "execution_count": 14,
   "metadata": {},
   "outputs": [],
   "source": [
    "from torch import nn"
   ]
  },
  {
   "cell_type": "code",
   "execution_count": 15,
   "metadata": {},
   "outputs": [],
   "source": [
    "class Network(nn.Module):\n",
    "    def __init__(self):\n",
    "        super(Network, self).__init__()\n",
    "        \n",
    "        # inputs to hidden layer linear transformation\n",
    "        self.hidden = nn.Linear(784, 256)\n",
    "        \n",
    "        # output layer\n",
    "        self.output = nn.Linear(256, 10)\n",
    "        \n",
    "        # sigmoid activation and softmax\n",
    "        self.sigmoid = nn.Sigmoid()\n",
    "        self.softmax = nn.Softmax(dim=1)\n",
    "        \n",
    "    def forward(self, x):\n",
    "        #pass the input tensor through each of our operation\n",
    "        x = self.hidden(x)\n",
    "        x = self.sigmoid(x)\n",
    "        x = self.output(x)\n",
    "        x = self.softmax(x)\n",
    "        \n",
    "        return x"
   ]
  },
  {
   "cell_type": "code",
   "execution_count": 16,
   "metadata": {},
   "outputs": [
    {
     "data": {
      "text/plain": [
       "Network(\n",
       "  (hidden): Linear(in_features=784, out_features=256, bias=True)\n",
       "  (output): Linear(in_features=256, out_features=10, bias=True)\n",
       "  (sigmoid): Sigmoid()\n",
       "  (softmax): Softmax()\n",
       ")"
      ]
     },
     "execution_count": 16,
     "metadata": {},
     "output_type": "execute_result"
    }
   ],
   "source": [
    "model = Network()\n",
    "model"
   ]
  },
  {
   "cell_type": "markdown",
   "metadata": {},
   "source": [
    "### nn.functional can also be used instead of nn,"
   ]
  },
  {
   "cell_type": "code",
   "execution_count": 17,
   "metadata": {},
   "outputs": [],
   "source": [
    "import torch.nn.functional as F"
   ]
  },
  {
   "cell_type": "code",
   "execution_count": 18,
   "metadata": {},
   "outputs": [],
   "source": [
    "class Network(nn.Module):\n",
    "    def __init__(self):\n",
    "        super(Network, self).__init__()\n",
    "        self.hidden = nn.Linear(784, 256)\n",
    "        self.output = nn.Linear(256, 10)\n",
    "        \n",
    "    def forward(self, x):\n",
    "        x = F.sigmoid(self.hidden(x))\n",
    "        x = F.softmax(self.output(x), dim=1)\n",
    "        \n",
    "        return x"
   ]
  },
  {
   "cell_type": "code",
   "execution_count": 19,
   "metadata": {},
   "outputs": [
    {
     "data": {
      "text/plain": [
       "Network(\n",
       "  (hidden): Linear(in_features=784, out_features=256, bias=True)\n",
       "  (output): Linear(in_features=256, out_features=10, bias=True)\n",
       ")"
      ]
     },
     "execution_count": 19,
     "metadata": {},
     "output_type": "execute_result"
    }
   ],
   "source": [
    "# displays the model\n",
    "model = Network()\n",
    "model"
   ]
  },
  {
   "cell_type": "code",
   "execution_count": 20,
   "metadata": {},
   "outputs": [],
   "source": [
    "\"\"\"create a network with \n",
    "    784 input units, \n",
    "    a hidden layer with 128 units and a ReLu activation, \n",
    "    a hidden layer with 64 units and a ReLu activation, \n",
    "    and an output layer with a softmax activation\"\"\"\n",
    "class Network(nn.Module):\n",
    "    def __init__(self):\n",
    "        super(Network, self).__init__()\n",
    "        self.layer1 = nn.Linear(784, 128)\n",
    "        self.layer2 = nn.Linear(128, 64)\n",
    "        self.layer3 = nn.Linear(64, 10)\n",
    "    def forward(self, x):\n",
    "        '''forward pass through the network\n",
    "            returns the output logits whose prob. sum to 1'''\n",
    "        x = self.layer1(x)\n",
    "        x = F.relu(x)\n",
    "        x = self.layer2(x)\n",
    "        x = F.relu(x)\n",
    "        x = self.layer3(x)\n",
    "        x = F.softmax(x, dim=1)\n",
    "        \n",
    "        return x"
   ]
  },
  {
   "cell_type": "code",
   "execution_count": 21,
   "metadata": {},
   "outputs": [
    {
     "data": {
      "text/plain": [
       "Network(\n",
       "  (layer1): Linear(in_features=784, out_features=128, bias=True)\n",
       "  (layer2): Linear(in_features=128, out_features=64, bias=True)\n",
       "  (layer3): Linear(in_features=64, out_features=10, bias=True)\n",
       ")"
      ]
     },
     "execution_count": 21,
     "metadata": {},
     "output_type": "execute_result"
    }
   ],
   "source": [
    "model = Network()\n",
    "model"
   ]
  },
  {
   "cell_type": "code",
   "execution_count": 22,
   "metadata": {},
   "outputs": [
    {
     "name": "stdout",
     "output_type": "stream",
     "text": [
      "Parameter containing:\n",
      "tensor([[ 0.0183,  0.0028,  0.0037,  ...,  0.0245,  0.0303, -0.0257],\n",
      "        [-0.0336,  0.0272, -0.0352,  ..., -0.0022, -0.0196, -0.0139],\n",
      "        [ 0.0156,  0.0085, -0.0083,  ..., -0.0139,  0.0200,  0.0175],\n",
      "        ...,\n",
      "        [ 0.0111, -0.0356, -0.0351,  ...,  0.0105,  0.0112, -0.0060],\n",
      "        [ 0.0137,  0.0289,  0.0261,  ..., -0.0241,  0.0042,  0.0154],\n",
      "        [ 0.0351,  0.0321,  0.0314,  ..., -0.0312, -0.0065,  0.0356]],\n",
      "       requires_grad=True)\n",
      "Parameter containing:\n",
      "tensor([ 0.0211,  0.0021,  0.0051,  0.0033, -0.0257, -0.0274,  0.0157, -0.0329,\n",
      "        -0.0108,  0.0166,  0.0016,  0.0050, -0.0125, -0.0149,  0.0207, -0.0180,\n",
      "         0.0200, -0.0339,  0.0085,  0.0014, -0.0174, -0.0079,  0.0185, -0.0271,\n",
      "         0.0131,  0.0188,  0.0004,  0.0096, -0.0188, -0.0036, -0.0123, -0.0060,\n",
      "         0.0223,  0.0251,  0.0333,  0.0323,  0.0064,  0.0332,  0.0250, -0.0219,\n",
      "         0.0246, -0.0159,  0.0275, -0.0257, -0.0142,  0.0262,  0.0130,  0.0296,\n",
      "        -0.0335, -0.0342,  0.0132, -0.0116, -0.0085,  0.0276, -0.0018, -0.0158,\n",
      "         0.0092, -0.0010, -0.0271,  0.0107, -0.0112,  0.0112,  0.0318, -0.0276,\n",
      "        -0.0230, -0.0161, -0.0313, -0.0258,  0.0179, -0.0231, -0.0284, -0.0027,\n",
      "         0.0170,  0.0218, -0.0260,  0.0088,  0.0273, -0.0301,  0.0069, -0.0320,\n",
      "         0.0315, -0.0330,  0.0357, -0.0182,  0.0299, -0.0120, -0.0148,  0.0041,\n",
      "        -0.0005,  0.0067, -0.0343, -0.0104, -0.0201,  0.0193,  0.0152,  0.0207,\n",
      "        -0.0253, -0.0210,  0.0311,  0.0269, -0.0224,  0.0208, -0.0085,  0.0174,\n",
      "        -0.0035,  0.0164, -0.0283,  0.0259,  0.0050,  0.0069,  0.0128, -0.0046,\n",
      "         0.0002, -0.0189,  0.0008, -0.0048, -0.0232,  0.0251,  0.0219,  0.0297,\n",
      "         0.0307, -0.0346, -0.0079,  0.0348, -0.0287,  0.0199,  0.0261,  0.0192],\n",
      "       requires_grad=True)\n"
     ]
    }
   ],
   "source": [
    "'''Initializing weight and biases: \n",
    "    weights and biases are automatically initialized'''\n",
    "\n",
    "# use model.layer_name.weight to check the initialization\n",
    "print(model.layer1.weight)\n",
    "print(model.layer1.bias)"
   ]
  },
  {
   "cell_type": "code",
   "execution_count": 23,
   "metadata": {},
   "outputs": [
    {
     "data": {
      "text/plain": [
       "tensor([0., 0., 0., 0., 0., 0., 0., 0., 0., 0., 0., 0., 0., 0., 0., 0., 0., 0., 0., 0., 0., 0., 0., 0.,\n",
       "        0., 0., 0., 0., 0., 0., 0., 0., 0., 0., 0., 0., 0., 0., 0., 0., 0., 0., 0., 0., 0., 0., 0., 0.,\n",
       "        0., 0., 0., 0., 0., 0., 0., 0., 0., 0., 0., 0., 0., 0., 0., 0., 0., 0., 0., 0., 0., 0., 0., 0.,\n",
       "        0., 0., 0., 0., 0., 0., 0., 0., 0., 0., 0., 0., 0., 0., 0., 0., 0., 0., 0., 0., 0., 0., 0., 0.,\n",
       "        0., 0., 0., 0., 0., 0., 0., 0., 0., 0., 0., 0., 0., 0., 0., 0., 0., 0., 0., 0., 0., 0., 0., 0.,\n",
       "        0., 0., 0., 0., 0., 0., 0., 0.])"
      ]
     },
     "execution_count": 23,
     "metadata": {},
     "output_type": "execute_result"
    }
   ],
   "source": [
    "''' we can do the custom initialization of the weights\n",
    "    and biases as well;\n",
    "    these are autograd variables\n",
    "    to do this use model.layer_name.weight.data '''\n",
    "\n",
    "# set biases to all zeros\n",
    "model.layer1.bias.data.fill_(0)"
   ]
  },
  {
   "cell_type": "code",
   "execution_count": 24,
   "metadata": {},
   "outputs": [
    {
     "data": {
      "text/plain": [
       "tensor([[-0.0055, -0.0013,  0.0144,  ...,  0.0223, -0.0028, -0.0255],\n",
       "        [ 0.0064,  0.0033,  0.0003,  ..., -0.0076, -0.0119,  0.0028],\n",
       "        [-0.0030,  0.0073, -0.0108,  ..., -0.0058,  0.0034, -0.0022],\n",
       "        ...,\n",
       "        [-0.0130, -0.0039,  0.0203,  ..., -0.0007, -0.0024,  0.0062],\n",
       "        [ 0.0080, -0.0055, -0.0006,  ..., -0.0078,  0.0043, -0.0045],\n",
       "        [ 0.0096, -0.0020,  0.0068,  ..., -0.0105,  0.0052,  0.0038]])"
      ]
     },
     "execution_count": 24,
     "metadata": {},
     "output_type": "execute_result"
    }
   ],
   "source": [
    "''' set the standard deviation to 0.01\n",
    "    initialize the weights to the normal distribution\n",
    "    with standard deviation 0.01'''\n",
    "model.layer1.weight.data.normal_(std=0.01)"
   ]
  },
  {
   "cell_type": "code",
   "execution_count": 25,
   "metadata": {},
   "outputs": [
    {
     "data": {
      "image/png": "[encoded data removed]",
      "text/plain": [
       "<Figure size 432x648 with 2 Axes>"
      ]
     },
     "metadata": {
      "image/png": {
       "height": 226,
       "width": 423
      },
      "needs_background": "light"
     },
     "output_type": "display_data"
    }
   ],
   "source": [
    "'''\n",
    "    now we can pass an image to our network and see what happens\n",
    "'''\n",
    "\n",
    "# grab some data\n",
    "dataitr = iter(trainloader)\n",
    "images, labels = dataiter.next()\n",
    "\n",
    "# resize images into a 1D vector\n",
    "# new shape is (batch size, color channels, image pixels)\n",
    "images.resize_(64, 1, 784)\n",
    "# or images.resize_(images.shape[0], 1, 784)\n",
    "\n",
    "# forward pass through the network\n",
    "img_index = 0\n",
    "forward_pass = model.forward(images[img_index,:])\n",
    "\n",
    "img = images[img_index]\n",
    "helper.view_classify(img.view(1, 28, 28), forward_pass)"
   ]
  },
  {
   "cell_type": "markdown",
   "metadata": {},
   "source": [
    "### Use `nn.Sequential` [documentation](https://pytorch.org/docs/master/nn.html#torch.nn.Sequential)"
   ]
  },
  {
   "cell_type": "code",
   "execution_count": 26,
   "metadata": {},
   "outputs": [
    {
     "name": "stdout",
     "output_type": "stream",
     "text": [
      "Sequential(\n",
      "  (0): Linear(in_features=784, out_features=128, bias=True)\n",
      "  (1): ReLU()\n",
      "  (2): Linear(in_features=128, out_features=64, bias=True)\n",
      "  (3): ReLU()\n",
      "  (4): Linear(in_features=64, out_features=10, bias=True)\n",
      "  (5): Softmax()\n",
      ")\n"
     ]
    },
    {
     "data": {
      "image/png": "[encoded data removed]",
      "text/plain": [
       "<Figure size 432x648 with 2 Axes>"
      ]
     },
     "metadata": {
      "image/png": {
       "height": 226,
       "width": 423
      },
      "needs_background": "light"
     },
     "output_type": "display_data"
    }
   ],
   "source": [
    "'''the probability distribution above shows that \n",
    "    the model doesn't know anything yet since the prediction seems same across all digits. \n",
    "    This is because the model hasnot been trained yet as all the weights are just random.\n",
    "\n",
    "    We use `nn.sequential` to train the model \n",
    "    by passing the weights throught he sequence of operation:\n",
    "'''\n",
    "# Hyper parameters for our model\n",
    "input_size = 784\n",
    "hidden_sizes = [128, 64]\n",
    "output_size = 10\n",
    "\n",
    "# build a feed forward network\n",
    "model = nn.Sequential(nn.Linear(input_size, hidden_sizes[0]),\n",
    "                      nn.ReLU(),\n",
    "                      nn.Linear(hidden_sizes[0], hidden_sizes[1]),\n",
    "                      nn.ReLU(),\n",
    "                      nn.Linear(hidden_sizes[1], output_size),\n",
    "                      nn.Softmax(dim=1))\n",
    "print(model)\n",
    "\n",
    "# forward pass through the network and display the output\n",
    "images, labels = next(iter(trainloader))\n",
    "images.resize_(images.shape[0], 1, 784)\n",
    "forward_pass = model.forward(images[0,:])\n",
    "helper.view_classify(images[0].view(1, 28, 28), forward_pass)"
   ]
  },
  {
   "cell_type": "code",
   "execution_count": 27,
   "metadata": {},
   "outputs": [
    {
     "name": "stdout",
     "output_type": "stream",
     "text": [
      "Linear(in_features=784, out_features=128, bias=True)\n"
     ]
    },
    {
     "data": {
      "text/plain": [
       "Parameter containing:\n",
       "tensor([[ 2.0123e-02, -1.1317e-03,  1.3058e-02,  ...,  2.6592e-03,\n",
       "         -3.0242e-02, -1.3357e-02],\n",
       "        [ 7.4546e-03, -2.1308e-02, -2.3042e-02,  ..., -2.6814e-02,\n",
       "         -2.1718e-02,  1.5133e-02],\n",
       "        [ 3.1570e-02,  3.4675e-03, -3.3131e-02,  ...,  1.2438e-02,\n",
       "         -2.1248e-02, -4.5610e-04],\n",
       "        ...,\n",
       "        [ 2.8530e-02, -1.2617e-03, -5.4431e-03,  ...,  1.6183e-04,\n",
       "         -5.4095e-03, -3.2139e-03],\n",
       "        [-5.3887e-03,  1.0054e-02, -9.8153e-03,  ...,  3.1153e-02,\n",
       "          3.5206e-03,  8.3543e-05],\n",
       "        [ 1.6463e-02,  6.4527e-04, -1.0131e-02,  ..., -1.2101e-02,\n",
       "          3.2281e-02, -2.6144e-02]], requires_grad=True)"
      ]
     },
     "execution_count": 27,
     "metadata": {},
     "output_type": "execute_result"
    }
   ],
   "source": [
    "# display the parameters of the each layer of the model\n",
    "print(model[0])\n",
    "model[0].weight"
   ]
  },
  {
   "cell_type": "code",
   "execution_count": 28,
   "metadata": {},
   "outputs": [],
   "source": [
    "\n",
    "#  we can also use the dictionary keys to provide \n",
    "#  the unique name for each layer\n",
    "from collections import OrderedDict"
   ]
  },
  {
   "cell_type": "code",
   "execution_count": 29,
   "metadata": {},
   "outputs": [
    {
     "data": {
      "text/plain": [
       "Sequential(\n",
       "  (layer1): Linear(in_features=784, out_features=128, bias=True)\n",
       "  (relu1): ReLU()\n",
       "  (layer2): Linear(in_features=128, out_features=64, bias=True)\n",
       "  (relu2): ReLU()\n",
       "  (output): Linear(in_features=64, out_features=10, bias=True)\n",
       "  (softmax): Softmax()\n",
       ")"
      ]
     },
     "execution_count": 29,
     "metadata": {},
     "output_type": "execute_result"
    }
   ],
   "source": [
    "\n",
    "model = nn.Sequential(OrderedDict([\n",
    "    ('layer1', nn.Linear(input_size, hidden_sizes[0])),\n",
    "    ('relu1', nn.ReLU()),\n",
    "    ('layer2', nn.Linear(hidden_sizes[0], hidden_sizes[1])),\n",
    "    ('relu2', nn.ReLU()),\n",
    "    ('output', nn.Linear(hidden_sizes[1], output_size)),\n",
    "    ('softmax', nn.Softmax(dim=1))]))\n",
    "model"
   ]
  },
  {
   "cell_type": "code",
   "execution_count": 31,
   "metadata": {},
   "outputs": [
    {
     "name": "stdout",
     "output_type": "stream",
     "text": [
      "Linear(in_features=784, out_features=128, bias=True)\n"
     ]
    }
   ],
   "source": [
    "# now we can use those unique kyes to check the parameter instead of using the index\n",
    "print(model[0])\n",
    "# print(model.layer1)"
   ]
  },
  {
   "cell_type": "markdown",
   "metadata": {},
   "source": [
    "### Training Neural Network"
   ]
  },
  {
   "cell_type": "code",
   "execution_count": 59,
   "metadata": {},
   "outputs": [],
   "source": [
    "\"\"\" finding a function that maps our input to output\n",
    "    loss function: a measure of the performance of the neural network\n",
    "    Gradiant descent\n",
    "    Backpropagation\n",
    "    forward and backward pass\n",
    "    \"\"\"\n",
    "import torch\n",
    "from torch import nn\n",
    "import torch.nn.functional as F\n",
    "from torchvision import datasets, transforms\n",
    "\n",
    "# Define a transform to normalize the data\n",
    "transform = transforms.Compose([transforms.ToTensor(),\n",
    "                                transforms.Normalize((0.5,), (0.5,)),\n",
    "                              ])\n",
    "# Download and load the training data\n",
    "trainset = datasets.MNIST('~/.pytorch/MNIST_data/', download=True, train=True, transform=transform)\n",
    "trainloader = torch.utils.data.DataLoader(trainset, batch_size=64, shuffle=True)"
   ]
  },
  {
   "cell_type": "code",
   "execution_count": 78,
   "metadata": {},
   "outputs": [
    {
     "name": "stdout",
     "output_type": "stream",
     "text": [
      "<built-in method size of Tensor object at 0x1272e3140>\n",
      "tensor(2.2937, grad_fn=<NllLossBackward>)\n"
     ]
    }
   ],
   "source": [
    "# Build a feed-forward network\n",
    "model = nn.Sequential(nn.Linear(784, 128),\n",
    "                      nn.ReLU(),\n",
    "                      nn.Linear(128, 64),\n",
    "                      nn.ReLU(),\n",
    "                      nn.Linear(64, 10))\n",
    "\n",
    "# Define the loss\n",
    "\n",
    "\"\"\" with softmax, cross entropy loss is used:\n",
    "    to calculate the loss, we define the loss first adn then pass the output of our network and the correct labels\"\"\"\n",
    "criterion = nn.CrossEntropyLoss()\n",
    "\n",
    "# Get our data\n",
    "images, labels = next(iter(trainloader))\n",
    "print(images.size)\n",
    "# Flatten images\n",
    "images = images.view(images.shape[0], -1)\n",
    "\n",
    "# Forward pass, get our logits\n",
    "logits = model(images)\n",
    "# Calculate the loss with the logits and the labels\n",
    "loss = criterion(logits, labels)\n",
    "\n",
    "print(loss)"
   ]
  },
  {
   "cell_type": "code",
   "execution_count": 32,
   "metadata": {},
   "outputs": [
    {
     "name": "stdout",
     "output_type": "stream",
     "text": [
      "tensor(2.3213, grad_fn=<NllLossBackward>)\n"
     ]
    },
    {
     "name": "stderr",
     "output_type": "stream",
     "text": [
      "/anaconda3/lib/python3.7/site-packages/torch/nn/modules/container.py:92: UserWarning: Implicit dimension choice for log_softmax has been deprecated. Change the call to include dim=X as an argument.\n",
      "  input = module(input)\n"
     ]
    }
   ],
   "source": [
    "\"\"\"\n",
    "    here we use the log softmax (allows us to get the probabilities \n",
    "    by taking the exponential torch.exp(output)),\n",
    "    with the log-softmax, we use the negative log likelihood loss,    \n",
    "\"\"\"\n",
    "\n",
    "model = nn.Sequential(nn.Linear(784, 128),\n",
    "                      nn.ReLU(),\n",
    "                      nn.Linear(128, 64),\n",
    "                      nn.ReLU(),\n",
    "                      nn.Linear(64, 10),\n",
    "                      nn.LogSoftmax())\n",
    "criterion = nn.NLLLoss()\n",
    "images,labels = next(iter(trainloader))\n",
    "images = images.view(images.shape[0], -1)\n",
    "logits = model(images)\n",
    "loss = criterion(logits, labels)\n",
    "\n",
    "print(loss)"
   ]
  },
  {
   "cell_type": "code",
   "execution_count": 33,
   "metadata": {},
   "outputs": [],
   "source": [
    "from torch import optim"
   ]
  },
  {
   "cell_type": "code",
   "execution_count": 34,
   "metadata": {},
   "outputs": [
    {
     "name": "stdout",
     "output_type": "stream",
     "text": [
      "Training loss: \n",
      "1.982573050044493\n",
      "Training loss: \n",
      "0.939997516016462\n",
      "Training loss: \n",
      "0.5557880917274113\n",
      "Training loss: \n",
      "0.43828705683954233\n",
      "Training loss: \n",
      "0.38701549232768606\n"
     ]
    }
   ],
   "source": [
    "\"\"\"\n",
    "    training the entire datasets with \n",
    "    gradient descent using grad module\n",
    "    and optimizing the model using optim package\n",
    "\"\"\"\n",
    "\n",
    "model = nn.Sequential(nn.Linear(784, 128),\n",
    "                     nn.ReLU(),\n",
    "                     nn.Linear(128, 64),\n",
    "                     nn.ReLU(),\n",
    "                     nn.Linear(64,10),\n",
    "                     nn.LogSoftmax())\n",
    "criterion = nn.NLLLoss()# negative log likelihood loss\n",
    "optimizer = optim.SGD(model.parameters(), lr=0.003)\n",
    "epochs = 5\n",
    "\n",
    "for e in range(epochs):\n",
    "    running_loss = 0\n",
    "    for images, labels in trainloader:\n",
    "        images = images.view(images.shape[0],-1)\n",
    "        optimizer.zero_grad()\n",
    "        \n",
    "        output = model.forward(images)\n",
    "        loss = criterion(output, labels)\n",
    "        loss.backward()\n",
    "        optimizer.step()\n",
    "        \n",
    "        running_loss += loss.item()\n",
    "    else:\n",
    "        print(\"Training loss: \")\n",
    "        print(running_loss/len(trainloader))"
   ]
  },
  {
   "cell_type": "code",
   "execution_count": 37,
   "metadata": {},
   "outputs": [
    {
     "data": {
      "image/png": "[encoded data removed]",
      "text/plain": [
       "<Figure size 432x648 with 2 Axes>"
      ]
     },
     "metadata": {
      "image/png": {
       "height": 226,
       "width": 423
      },
      "needs_background": "light"
     },
     "output_type": "display_data"
    }
   ],
   "source": [
    "# display the result\n",
    "\n",
    "%matplotlib inline\n",
    "import helper\n",
    "\n",
    "images, labels = next(iter(trainloader))\n",
    "\n",
    "img = images[0].view(1, 784)\n",
    "# Turn off gradients to speed up this part\n",
    "with torch.no_grad():\n",
    "    logps = model.forward(img)\n",
    "\n",
    "# Output of the network are logits, need to take softmax for probabilities\n",
    "ps = torch.exp(logps)\n",
    "helper.view_classify(img.view(1, 28, 28), ps)"
   ]
  },
  {
   "cell_type": "markdown",
   "metadata": {},
   "source": [
    "### Fashion-MNIST prediction"
   ]
  },
  {
   "cell_type": "code",
   "execution_count": 40,
   "metadata": {},
   "outputs": [],
   "source": [
    "import torch\n",
    "from torch import nn, optim\n",
    "from torchvision import transforms, datasets\n",
    "import helper # custom made file in the directory\n",
    "import torch.nn.functional as f\n",
    "\n",
    "transform = transforms.Compose([transforms.ToTensor(),transforms.Normalize((0.5,),(0.5,))])\n",
    "trainset = datasets.FashionMNIST('~/.pytorch/Fashion_MNIST_data/', download=True, train=True, transform=transform)\n",
    "trainloader = torch.utils.data.DataLoader(trainset, batch_size=64, shuffle=True)\n",
    "testset = datasets.FashionMNIST('~/.pytorch/Fashion_MNIST_data/', download=True, train=True, transform=transform)\n",
    "testloader = torch.utils.data.DataLoader(testset, batch_size=64, shuffle=True)"
   ]
  },
  {
   "cell_type": "code",
   "execution_count": 41,
   "metadata": {},
   "outputs": [
    {
     "data": {
      "text/plain": [
       "<matplotlib.axes._subplots.AxesSubplot at 0x123ab0ac8>"
      ]
     },
     "execution_count": 41,
     "metadata": {},
     "output_type": "execute_result"
    },
    {
     "data": {
      "image/png": "[encoded data removed]",
      "text/plain": [
       "<Figure size 432x288 with 1 Axes>"
      ]
     },
     "metadata": {
      "image/png": {
       "height": 233,
       "width": 233
      },
      "needs_background": "light"
     },
     "output_type": "display_data"
    }
   ],
   "source": [
    "images, labels = next(iter(trainloader))\n",
    "helper.imshow(images[0])\n"
   ]
  },
  {
   "cell_type": "code",
   "execution_count": 42,
   "metadata": {},
   "outputs": [],
   "source": [
    "# the network architecture\n",
    "class neural_network(nn.Module):\n",
    "    def __init__(self):\n",
    "        super(neural_network, self).__init__()\n",
    "        self.layer1 = nn.Linear(784, 264)\n",
    "        self.layer2 = nn.Linear(264, 128)\n",
    "        self.layer3 = nn.Linear(128, 64)\n",
    "        self.layer4 = nn.Linear(64, 10)\n",
    "        \n",
    "    def forward(self, data):\n",
    "        data = data.view(data.shape[0], -1)\n",
    "        data = f.relu(self.layer1(data))\n",
    "        data = f.relu(self.layer2(data))\n",
    "        data = f.relu(self.layer3(data))\n",
    "        data = f.log_softmax(self.layer4(data), dim=1)\n",
    "        \n",
    "        return data\n",
    "    \n",
    "# can also be defined using the sequential model\n",
    "# model = nn.Sequential(nn.Linear(784, 256),\n",
    "#                       nn.ReLU(),\n",
    "#                       nn.Linear(256, 128),\n",
    "#                       nn.ReLU(),\n",
    "#                       nn.Linear(128, 64),\n",
    "#                       nn.ReLU(),\n",
    "#                       nn.Linear(64, 10),\n",
    "#                       nn.LogSoftmax())"
   ]
  },
  {
   "cell_type": "code",
   "execution_count": 43,
   "metadata": {},
   "outputs": [],
   "source": [
    "model = neural_network()\n",
    "criterion = nn.NLLLoss()\n",
    "optimizer = optim.SGD(model.parameters(), lr=0.3)"
   ]
  },
  {
   "cell_type": "code",
   "execution_count": 44,
   "metadata": {},
   "outputs": [
    {
     "name": "stdout",
     "output_type": "stream",
     "text": [
      "training loss: \n",
      "0.647677791048723\n",
      "training loss: \n",
      "0.41942199117847595\n",
      "training loss: \n",
      "0.3690807625635473\n",
      "training loss: \n",
      "0.3359951555713026\n",
      "training loss: \n",
      "0.3180160491880196\n"
     ]
    }
   ],
   "source": [
    "# train the networl\n",
    "epochs = 5\n",
    "for i in range(epochs):\n",
    "    running_loss = 0\n",
    "    for images,labels in trainloader:\n",
    "        images = images.view(images.shape[0],-1) # flatten the input data\n",
    "        optimizer.zero_grad() # clear the gradients since they get accumulated\n",
    "        \n",
    "        # deploy the four stpes of training:\n",
    "        output = model.forward(images) # forward pass to get output\n",
    "        loss = criterion(output, labels) # loss calculation\n",
    "        loss.backward() # backward pass of loss\n",
    "        optimizer.step() # weights update\n",
    "        \n",
    "        running_loss += loss.item()\n",
    "    else:\n",
    "        print(\"training loss: \")\n",
    "        print(running_loss/len(trainloader))"
   ]
  },
  {
   "cell_type": "code",
   "execution_count": 47,
   "metadata": {},
   "outputs": [
    {
     "data": {
      "image/png": "[encoded data removed]",
      "text/plain": [
       "<Figure size 432x648 with 2 Axes>"
      ]
     },
     "metadata": {
      "image/png": {
       "height": 206,
       "width": 423
      },
      "needs_background": "light"
     },
     "output_type": "display_data"
    }
   ],
   "source": [
    "%matplotlib inline\n",
    "\n",
    "images, labels = next(iter(testloader))\n",
    "image = images[0].view(1, 784)\n",
    "\n",
    "# turn off gradients to speed up this part\n",
    "with torch.no_grad():\n",
    "    logits = model.forward(image)\n",
    "    probabilities = f.softmax(logits, dim=1)\n",
    "helper.view_classify(image.view(1, 28, 28), probabilities, version='Fashion')"
   ]
  },
  {
   "cell_type": "code",
   "execution_count": null,
   "metadata": {},
   "outputs": [],
   "source": [
    "\"\"\"FUCKING HELL!! THIS IS AWESOME!!!\"\"\""
   ]
  },
  {
   "cell_type": "markdown",
   "metadata": {},
   "source": [
    "### Validation"
   ]
  },
  {
   "cell_type": "markdown",
   "metadata": {},
   "source": [
    "> Now the model is trained, we can make it even better by using validation. Validation is prediction of our model that is performed in test data (unseeen data by the model). If we graph the train loss and test loss we will see that test loss gets higher, this is because the model is failing to generalize the train data, which means model is not good enough to predict on the unseen data. This is also known as VOERFITTING, and to avoid this we will use sth called overfitting.\n"
   ]
  },
  {
   "cell_type": "code",
   "execution_count": 58,
   "metadata": {},
   "outputs": [],
   "source": [
    "import torch\n",
    "from torchvision import datasets, transforms\n",
    "\n",
    "# Define a transform to normalize the data\n",
    "transform = transforms.Compose([transforms.ToTensor(),\n",
    "                                transforms.Normalize((0.5, ), (0.5, ))])\n",
    "# Download and load the training data\n",
    "trainset = datasets.FashionMNIST('~/.pytorch/F_MNIST_data/', download=True, train=True, transform=transform)\n",
    "trainloader = torch.utils.data.DataLoader(trainset, batch_size=64, shuffle=True)\n",
    "\n",
    "# Download and load the test data, `train=False`\n",
    "testset = datasets.FashionMNIST('~/.pytorch/F_MNIST_data/', download=True, train=False, transform=transform)\n",
    "testloader = torch.utils.data.DataLoader(testset, batch_size=64, shuffle=True)"
   ]
  },
  {
   "cell_type": "code",
   "execution_count": 60,
   "metadata": {},
   "outputs": [],
   "source": [
    "class neural_network(nn.Module):\n",
    "    def __init__(self):\n",
    "        super(neural_network, self).__init__()\n",
    "        self.layer1 = nn.Linear(784, 264)\n",
    "        self.layer2 = nn.Linear(264, 128)\n",
    "        self.layer3 = nn.Linear(128, 64)\n",
    "        self.layer4 = nn.Linear(64, 10)\n",
    "        \n",
    "    def forward(self, data):\n",
    "        data = data.view(data.shape[0], -1)\n",
    "        data = f.relu(self.layer1(data))\n",
    "        data = f.relu(self.layer2(data))\n",
    "        data = f.relu(self.layer3(data))\n",
    "        data = f.log_softmax(self.layer4(data), dim=1)\n",
    "        \n",
    "        return data"
   ]
  },
  {
   "cell_type": "code",
   "execution_count": 63,
   "metadata": {},
   "outputs": [
    {
     "name": "stdout",
     "output_type": "stream",
     "text": [
      "torch.Size([64, 10])\n"
     ]
    }
   ],
   "source": [
    "model = neural_network()\n",
    "\n",
    "images, labels = next(iter(trainloader))\n",
    "probabilities = torch.exp(model(images)) # get the class probabilites\n",
    "print(probabilities.shape) # we should get 10 class probabilities for 64 input images"
   ]
  },
  {
   "cell_type": "code",
   "execution_count": null,
   "metadata": {},
   "outputs": [],
   "source": [
    "# get the touple of top k values and corresponding top k classes\n",
    "top_value, top_class = probabilities.topk(1, dim=1)\n",
    "\n",
    "# look at the most likely classes for first 10 examples\n",
    "print(top_class[:10,:])\n",
    "# print(top_value[:10,:])"
   ]
  },
  {
   "cell_type": "code",
   "execution_count": 72,
   "metadata": {},
   "outputs": [],
   "source": [
    "# now we compare the predicted classes and equal classes\n",
    "# euqals will be like [1 0 1 1 0 0 0 1 1 1 1 . . .] of data type `torch.ByteTensor`\n",
    "# if the labels are correctly predected then the result is assigned as 1 and 0 otherwise\n",
    "equals = top_class == labels.view(top_class.shape)\n"
   ]
  },
  {
   "cell_type": "code",
   "execution_count": 73,
   "metadata": {},
   "outputs": [
    {
     "name": "stdout",
     "output_type": "stream",
     "text": [
      "Accuracy:\n",
      "4.6875\n"
     ]
    }
   ],
   "source": [
    "\"\"\"\n",
    "    equals = [1 0 1 1 0 0 0 1 1 1 1 . . .]\n",
    "    calculating the accuracy is as simple as calculating the mean of the floating values of equals; \n",
    "    however, torch.mean does not support the data type of equals [torch.ByteTensor] therefore \n",
    "    we need to convert it to torch.FloatTensor\n",
    "\"\"\"\n",
    "\n",
    "accuracy = torch.mean(equals.type(torch.FloatTensor))\n",
    "print('Accuracy:')\n",
    "print(accuracy.item()*100)"
   ]
  },
  {
   "cell_type": "code",
   "execution_count": 55,
   "metadata": {},
   "outputs": [
    {
     "name": "stdout",
     "output_type": "stream",
     "text": [
      "Epoch: 1/30..  Training Loss: 0.513..  Test Loss: 0.443..  Test Accuracy: 0.837\n",
      "Epoch: 2/30..  Training Loss: 0.393..  Test Loss: 0.416..  Test Accuracy: 0.846\n",
      "Epoch: 3/30..  Training Loss: 0.356..  Test Loss: 0.405..  Test Accuracy: 0.853\n",
      "Epoch: 4/30..  Training Loss: 0.329..  Test Loss: 0.376..  Test Accuracy: 0.871\n",
      "Epoch: 5/30..  Training Loss: 0.315..  Test Loss: 0.382..  Test Accuracy: 0.870\n",
      "Epoch: 6/30..  Training Loss: 0.301..  Test Loss: 0.382..  Test Accuracy: 0.861\n",
      "Epoch: 7/30..  Training Loss: 0.293..  Test Loss: 0.374..  Test Accuracy: 0.871\n",
      "Epoch: 8/30..  Training Loss: 0.284..  Test Loss: 0.357..  Test Accuracy: 0.873\n",
      "Epoch: 9/30..  Training Loss: 0.272..  Test Loss: 0.364..  Test Accuracy: 0.878\n",
      "Epoch: 10/30..  Training Loss: 0.263..  Test Loss: 0.372..  Test Accuracy: 0.874\n",
      "Epoch: 11/30..  Training Loss: 0.259..  Test Loss: 0.370..  Test Accuracy: 0.874\n",
      "Epoch: 12/30..  Training Loss: 0.250..  Test Loss: 0.366..  Test Accuracy: 0.884\n",
      "Epoch: 13/30..  Training Loss: 0.249..  Test Loss: 0.401..  Test Accuracy: 0.873\n",
      "Epoch: 14/30..  Training Loss: 0.240..  Test Loss: 0.361..  Test Accuracy: 0.885\n",
      "Epoch: 15/30..  Training Loss: 0.231..  Test Loss: 0.364..  Test Accuracy: 0.877\n",
      "Epoch: 16/30..  Training Loss: 0.233..  Test Loss: 0.380..  Test Accuracy: 0.881\n",
      "Epoch: 17/30..  Training Loss: 0.225..  Test Loss: 0.385..  Test Accuracy: 0.878\n",
      "Epoch: 18/30..  Training Loss: 0.220..  Test Loss: 0.385..  Test Accuracy: 0.884\n",
      "Epoch: 19/30..  Training Loss: 0.217..  Test Loss: 0.381..  Test Accuracy: 0.873\n",
      "Epoch: 20/30..  Training Loss: 0.211..  Test Loss: 0.381..  Test Accuracy: 0.885\n",
      "Epoch: 21/30..  Training Loss: 0.211..  Test Loss: 0.380..  Test Accuracy: 0.885\n",
      "Epoch: 22/30..  Training Loss: 0.207..  Test Loss: 0.390..  Test Accuracy: 0.881\n",
      "Epoch: 23/30..  Training Loss: 0.202..  Test Loss: 0.386..  Test Accuracy: 0.883\n",
      "Epoch: 24/30..  Training Loss: 0.198..  Test Loss: 0.393..  Test Accuracy: 0.886\n",
      "Epoch: 25/30..  Training Loss: 0.196..  Test Loss: 0.371..  Test Accuracy: 0.886\n",
      "Epoch: 26/30..  Training Loss: 0.195..  Test Loss: 0.387..  Test Accuracy: 0.887\n",
      "Epoch: 27/30..  Training Loss: 0.188..  Test Loss: 0.417..  Test Accuracy: 0.881\n",
      "Epoch: 28/30..  Training Loss: 0.189..  Test Loss: 0.410..  Test Accuracy: 0.886\n",
      "Epoch: 29/30..  Training Loss: 0.190..  Test Loss: 0.422..  Test Accuracy: 0.878\n",
      "Epoch: 30/30..  Training Loss: 0.182..  Test Loss: 0.407..  Test Accuracy: 0.887\n"
     ]
    }
   ],
   "source": [
    "# implementing validation\n",
    "model = neural_network()\n",
    "criterion = nn.NLLLoss()\n",
    "optimizer = optim.Adam(model.parameters(), lr=0.003)\n",
    "\n",
    "epochs = 30\n",
    "steps = 0\n",
    "\n",
    "train_losses, test_losses = [], []\n",
    "for e in range(epochs):\n",
    "    running_loss = 0\n",
    "    for images, labels in trainloader:\n",
    "        \n",
    "        optimizer.zero_grad()\n",
    "        \n",
    "        log_ps = model(images)\n",
    "        loss = criterion(log_ps, labels)\n",
    "        loss.backward()\n",
    "        optimizer.step()\n",
    "        \n",
    "        running_loss += loss.item()\n",
    "        \n",
    "    else:\n",
    "        ## Implement the validation pass and print out the validation accuracy\n",
    "        test_loss = 0\n",
    "        accuracy = 0\n",
    "        #turn off the gradients, since we do not update the parameters during validation\n",
    "        with torch.no_grad():\n",
    "            for images, labels in testloader:\n",
    "                # pass the validation data through the model\n",
    "                output = model(images)\n",
    "                test_loss += criterion(output, labels)\n",
    "                probabilities = torch.exp(output)\n",
    "                # get the touple of top values and top class predicted\n",
    "                top_value, top_class = probabilities.topk(1, dim=1)\n",
    "                # compare the predicted class with the actual labels, returns floating values\n",
    "                equals = top_class == labels.view(*top_class.shape)\n",
    "                # calculate the mean of equals, or accuracy\n",
    "                accuracy += torch.mean(equals.type(torch.FloatTensor))\n",
    "        train_losses.append(running_loss/len(trainloader))\n",
    "        test_losses.append(test_loss/len(testloader))\n",
    "        \n",
    "        print(\"Epoch: {}/{}.. \".format(e+1, epochs),\n",
    "              \"Training Loss: {:.3f}.. \".format(running_loss/len(trainloader)),\n",
    "              \"Test Loss: {:.3f}.. \".format(test_loss/len(testloader)),\n",
    "              \"Test Accuracy: {:.3f}\".format(accuracy/len(testloader)))"
   ]
  },
  {
   "cell_type": "code",
   "execution_count": 74,
   "metadata": {},
   "outputs": [],
   "source": [
    "%matplotlib inline\n",
    "%config InlineBackend.figure_format = 'retina'\n",
    "\n",
    "import matplotlib.pyplot as plt"
   ]
  },
  {
   "cell_type": "code",
   "execution_count": 77,
   "metadata": {},
   "outputs": [
    {
     "data": {
      "text/plain": [
       "<matplotlib.legend.Legend at 0x1231407f0>"
      ]
     },
     "execution_count": 77,
     "metadata": {},
     "output_type": "execute_result"
    },
    {
     "data": {
      "image/png": "[encoded data removed]",
      "text/plain": [
       "<Figure size 432x288 with 1 Axes>"
      ]
     },
     "metadata": {
      "image/png": {
       "height": 250,
       "width": 380
      },
      "needs_background": "light"
     },
     "output_type": "display_data"
    }
   ],
   "source": [
    "plt.plot(train_losses, label='Training Loss')\n",
    "plt.plot(test_losses, label='Validation Loss')\n",
    "plt.legend(frameon='False')"
   ]
  },
  {
   "cell_type": "markdown",
   "metadata": {},
   "source": [
    "#### *Overfitting*\n",
    "\n",
    "The huge difference between the training loss and the validation loss as shown is the above graph is what is knwn as overfitting.\n",
    "\n",
    "The network learns the training set better and better, resulting in lower training losses. However, it starts having problems generalizing to data outside the training set leading to the validation loss increasing. \n",
    "\n",
    "The ultimate goal of any deep learning model is to make predictions on new data, so we should strive to get the lowest validation loss possible. **One option is to use the version of the model with the lowest validation loss, here the one around 8-10 training epochs. This strategy is called *early-stopping*.** In practice, you'd save the model frequently as you're training then later choose the model with the lowest validation loss.\n",
    "\n",
    "The most common method to reduce overfitting (outside of early-stopping) is *dropout*, where we randomly drop input units. This forces the network to share information between weights, increasing it's ability to generalize to new data. Adding dropout in PyTorch is straightforward using the [`nn.Dropout`](https://pytorch.org/docs/stable/nn.html#torch.nn.Dropout) module.\n",
    "\n",
    "```python\n",
    "class Classifier(nn.Module):\n",
    "    def __init__(self):\n",
    "        super().__init__()\n",
    "        self.fc1 = nn.Linear(784, 256)\n",
    "        self.fc2 = nn.Linear(256, 128)\n",
    "        self.fc3 = nn.Linear(128, 64)\n",
    "        self.fc4 = nn.Linear(64, 10)\n",
    "        \n",
    "        # Dropout module with 0.2 drop probability\n",
    "        self.dropout = nn.Dropout(p=0.2)\n",
    "        \n",
    "    def forward(self, x):\n",
    "        # make sure input tensor is flattened\n",
    "        x = x.view(x.shape[0], -1)\n",
    "        \n",
    "        # Now with dropout\n",
    "        x = self.dropout(F.relu(self.fc1(x)))\n",
    "        x = self.dropout(F.relu(self.fc2(x)))\n",
    "        x = self.dropout(F.relu(self.fc3(x)))\n",
    "        \n",
    "        # output so no dropout here\n",
    "        x = F.log_softmax(self.fc4(x), dim=1)\n",
    "        \n",
    "        return x\n",
    "```\n",
    "\n",
    "During training we want to use dropout to prevent overfitting, but during inference we want to use the entire network. So, **we need to turn off dropout during validation, testing, and whenever we're using the network to make predictions. To do this, you use** `model.eval()`. **This sets the model to evaluation mode where the dropout probability is 0. You can turn dropout back on by setting the model to train mode with** `model.train()`. In general, the pattern for the validation loop will look like this, where you turn off gradients, set the model to evaluation mode, calculate the validation loss and metric, then set the model back to train mode.\n",
    "\n",
    "```python\n",
    "# turn off gradients\n",
    "with torch.no_grad():\n",
    "    \n",
    "    # set model to evaluation mode\n",
    "    model.eval()\n",
    "    \n",
    "    # validation pass here\n",
    "    for images, labels in testloader:\n",
    "        ...\n",
    "\n",
    "# set model back to train mode\n",
    "model.train()\n",
    "```"
   ]
  },
  {
   "cell_type": "code",
   "execution_count": 83,
   "metadata": {},
   "outputs": [],
   "source": [
    "class neural_network(nn.Module):\n",
    "    def __init__(self):\n",
    "        super(neural_network, self).__init__()\n",
    "        \n",
    "        self.layer1 = nn.Linear(784, 264)\n",
    "        self.layer2 = nn.Linear(264, 128)\n",
    "        self.layer3 = nn.Linear(128, 64)\n",
    "        self.layer4 = nn.Linear(64, 10)\n",
    "        \n",
    "        self.dropout = nn.Dropout(p=0.2) # drop out with the probability of 0.2\n",
    "    def forward(self, data):\n",
    "        data = data.view(data.shape[0], -1)\n",
    "        \n",
    "        data = self.dropout(f.relu(self.layer1(data)))\n",
    "        data = self.dropout(f.relu(self.layer2(data)))\n",
    "        data = self.dropout(f.relu(self.layer3(data)))\n",
    "        data = f.log_softmax(self.layer4(data), dim=1) # no dropout in the output since we want all classes :D\n",
    "        \n",
    "        return data"
   ]
  },
  {
   "cell_type": "code",
   "execution_count": null,
   "metadata": {},
   "outputs": [
    {
     "name": "stdout",
     "output_type": "stream",
     "text": [
      "Epoch: 1/30..  Training Loss: 2.186..  Test Loss: 1.891..  Test Accuracy: 0.406\n",
      "Epoch: 2/30..  Training Loss: 1.511..  Test Loss: 1.075..  Test Accuracy: 0.659\n",
      "Epoch: 3/30..  Training Loss: 1.032..  Test Loss: 0.810..  Test Accuracy: 0.715\n",
      "Epoch: 4/30..  Training Loss: 0.851..  Test Loss: 0.709..  Test Accuracy: 0.741\n",
      "Epoch: 5/30..  Training Loss: 0.761..  Test Loss: 0.657..  Test Accuracy: 0.752\n",
      "Epoch: 6/30..  Training Loss: 0.710..  Test Loss: 0.624..  Test Accuracy: 0.763\n",
      "Epoch: 7/30..  Training Loss: 0.675..  Test Loss: 0.602..  Test Accuracy: 0.767\n",
      "Epoch: 8/30..  Training Loss: 0.646..  Test Loss: 0.580..  Test Accuracy: 0.780\n",
      "Epoch: 9/30..  Training Loss: 0.625..  Test Loss: 0.561..  Test Accuracy: 0.790\n",
      "Epoch: 10/30..  Training Loss: 0.604..  Test Loss: 0.551..  Test Accuracy: 0.794\n",
      "Epoch: 11/30..  Training Loss: 0.584..  Test Loss: 0.533..  Test Accuracy: 0.801\n",
      "Epoch: 12/30..  Training Loss: 0.570..  Test Loss: 0.522..  Test Accuracy: 0.805\n",
      "Epoch: 13/30..  Training Loss: 0.556..  Test Loss: 0.512..  Test Accuracy: 0.807\n",
      "Epoch: 14/30..  Training Loss: 0.543..  Test Loss: 0.505..  Test Accuracy: 0.812\n",
      "Epoch: 15/30..  Training Loss: 0.530..  Test Loss: 0.494..  Test Accuracy: 0.816\n",
      "Epoch: 16/30..  Training Loss: 0.519..  Test Loss: 0.486..  Test Accuracy: 0.819\n",
      "Epoch: 17/30..  Training Loss: 0.509..  Test Loss: 0.477..  Test Accuracy: 0.824\n",
      "Epoch: 18/30..  Training Loss: 0.500..  Test Loss: 0.470..  Test Accuracy: 0.827\n",
      "Epoch: 19/30..  Training Loss: 0.493..  Test Loss: 0.463..  Test Accuracy: 0.827\n",
      "Epoch: 20/30..  Training Loss: 0.484..  Test Loss: 0.457..  Test Accuracy: 0.832\n",
      "Epoch: 21/30..  Training Loss: 0.475..  Test Loss: 0.457..  Test Accuracy: 0.833\n",
      "Epoch: 22/30..  Training Loss: 0.469..  Test Loss: 0.447..  Test Accuracy: 0.835\n",
      "Epoch: 23/30..  Training Loss: 0.464..  Test Loss: 0.442..  Test Accuracy: 0.836\n",
      "Epoch: 24/30..  Training Loss: 0.458..  Test Loss: 0.436..  Test Accuracy: 0.838\n",
      "Epoch: 25/30..  Training Loss: 0.448..  Test Loss: 0.433..  Test Accuracy: 0.839\n",
      "Epoch: 26/30..  Training Loss: 0.447..  Test Loss: 0.429..  Test Accuracy: 0.842\n",
      "Epoch: 27/30..  Training Loss: 0.439..  Test Loss: 0.430..  Test Accuracy: 0.840\n",
      "Epoch: 28/30..  Training Loss: 0.435..  Test Loss: 0.419..  Test Accuracy: 0.845\n",
      "Epoch: 29/30..  Training Loss: 0.430..  Test Loss: 0.418..  Test Accuracy: 0.846\n"
     ]
    }
   ],
   "source": [
    "## Train your model with dropout, and monitor the training progress with the validation loss and accuracy\n",
    "model = neural_network()\n",
    "criterion = nn.NLLLoss()\n",
    "optimizer = optim.SGD(model.parameters(),lr=0.003)\n",
    "epochs = 30\n",
    "\n",
    "train_losses, test_losses = [], []\n",
    "for i in range(epochs):\n",
    "    running_loss = 0\n",
    "    for images, labels in trainloader:\n",
    "        images = images.view(images.shape[0], -1)\n",
    "        optimizer.zero_grad()\n",
    "\n",
    "        output = model.forward(images)\n",
    "        loss = criterion(output, labels)\n",
    "        loss.backward()\n",
    "        optimizer.step()\n",
    "\n",
    "        running_loss += loss.item()\n",
    "    else:\n",
    "        test_loss = 0\n",
    "        accuracy = 0\n",
    "        \n",
    "        with torch.no_grad(): # turns off gradients, saves memory and boosts speed\n",
    "            model.eval() # turns off the drop out\n",
    "            for images, labels in testloader:\n",
    "                output = model(images)\n",
    "                test_loss += criterion(output, labels)\n",
    "                probabilities = torch.exp(output)\n",
    "                \n",
    "                top_value, top_class = probabilities.topk(1, dim=1)\n",
    "                equals = top_class == labels.view(*top_class.shape)\n",
    "                accuracy += torch.mean(equals.type(torch.FloatTensor))\n",
    "        \n",
    "        model.train() # truns back the dropout on\n",
    "        \n",
    "        train_losses.append(running_loss/len(trainloader))\n",
    "        test_losses.append(test_loss/len(testloader))\n",
    "        \n",
    "        print(\"Epoch: {}/{}.. \".format(i+1, epochs),\n",
    "              \"Training Loss: {:.3f}.. \".format(running_loss/len(trainloader)),\n",
    "              \"Test Loss: {:.3f}.. \".format(test_loss/len(testloader)),\n",
    "              \"Test Accuracy: {:.3f}\".format(accuracy/len(testloader)))\n"
   ]
  },
  {
   "cell_type": "code",
   "execution_count": null,
   "metadata": {},
   "outputs": [],
   "source": [
    "%matplotlib inline\n",
    "%config InlineBackend.figure_format = 'retina'\n",
    "\n",
    "import matplotlib.pyplot as plt"
   ]
  },
  {
   "cell_type": "code",
   "execution_count": null,
   "metadata": {},
   "outputs": [],
   "source": [
    "plt.plot(train_losses, label='Training loss')\n",
    "plt.plot(test_losses, label='Validation loss')\n",
    "plt.legend(frameon=False)"
   ]
  },
  {
   "cell_type": "code",
   "execution_count": null,
   "metadata": {},
   "outputs": [],
   "source": [
    "\"\"\"\n",
    "    Predection\n",
    "\"\"\"\n",
    "\n",
    "# Import helper module (should be in the repo)\n",
    "import helper\n",
    "\n",
    "# Test out your network!\n",
    "\n",
    "model.eval()\n",
    "\n",
    "dataiter = iter(testloader)\n",
    "images, labels = dataiter.next()\n",
    "img = images[0]\n",
    "# Convert 2D image to 1D vector\n",
    "img = img.view(1, 784)\n",
    "\n",
    "# Calculate the class probabilities (softmax) for img\n",
    "with torch.no_grad():\n",
    "    output = model.forward(img)\n",
    "\n",
    "ps = torch.exp(output)\n",
    "\n",
    "# Plot the image and probabilities\n",
    "helper.view_classify(img.view(1, 28, 28), ps, version='Fashion')"
   ]
  },
  {
   "cell_type": "code",
   "execution_count": null,
   "metadata": {},
   "outputs": [],
   "source": []
  }
 ],
 "metadata": {
  "kernelspec": {
   "display_name": "Python 3",
   "language": "python",
   "name": "python3"
  },
  "language_info": {
   "codemirror_mode": {
    "name": "ipython",
    "version": 3
   },
   "file_extension": ".py",
   "mimetype": "text/x-python",
   "name": "python",
   "nbconvert_exporter": "python",
   "pygments_lexer": "ipython3",
   "version": "3.7.3"
  }
 },
 "nbformat": 4,
 "nbformat_minor": 2
}
